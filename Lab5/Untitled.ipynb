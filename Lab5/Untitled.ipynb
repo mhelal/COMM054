{
 "cells": [
  {
   "cell_type": "markdown",
   "metadata": {},
   "source": [
    "# MLE in Python\n",
    "\n",
    "Implementing MLE in your data science modeling pipeline can be done with a variety of approaches. Below is one approach to get started."
   ]
  },
  {
   "cell_type": "code",
   "execution_count": 4,
   "metadata": {},
   "outputs": [
    {
     "name": "stdout",
     "output_type": "stream",
     "text": [
      "Requirement already satisfied: pymc3 in /Users/manal/miniconda3/lib/python3.6/site-packages (3.7)\n",
      "Requirement already satisfied: numdifftools in /Users/manal/miniconda3/lib/python3.6/site-packages (0.9.39)\n",
      "Collecting statsmodels\n",
      "\u001b[?25l  Downloading https://files.pythonhosted.org/packages/a1/94/dd7fce3210ca415aeb6d11d16cae30bfce849cf6b232cffeaee83259276f/statsmodels-0.10.1-cp36-cp36m-macosx_10_6_intel.macosx_10_9_intel.macosx_10_9_x86_64.macosx_10_10_intel.macosx_10_10_x86_64.whl (10.5MB)\n",
      "\u001b[K     |████████████████████████████████| 10.5MB 1.3MB/s eta 0:00:01\n",
      "\u001b[?25hRequirement already satisfied: h5py>=2.7.0 in /Users/manal/miniconda3/lib/python3.6/site-packages (from pymc3) (2.10.0)\n",
      "Requirement already satisfied: scipy>=0.18.1 in /Users/manal/miniconda3/lib/python3.6/site-packages/scipy-1.3.0-py3.6-macosx-10.7-x86_64.egg (from pymc3) (1.3.0)\n",
      "Requirement already satisfied: theano>=1.0.4 in /Users/manal/miniconda3/lib/python3.6/site-packages (from pymc3) (1.0.4)\n",
      "Requirement already satisfied: patsy>=0.4.0 in /Users/manal/miniconda3/lib/python3.6/site-packages (from pymc3) (0.5.1)\n",
      "Requirement already satisfied: pandas>=0.18.0 in /Users/manal/miniconda3/lib/python3.6/site-packages (from pymc3) (0.25.1)\n",
      "Requirement already satisfied: tqdm>=4.8.4 in /Users/manal/miniconda3/lib/python3.6/site-packages (from pymc3) (4.37.0)\n",
      "Requirement already satisfied: numpy>=1.13.0 in /Users/manal/miniconda3/lib/python3.6/site-packages (from pymc3) (1.14.2)\n",
      "Requirement already satisfied: six in /Users/manal/miniconda3/lib/python3.6/site-packages (from h5py>=2.7.0->pymc3) (1.11.0)\n",
      "Requirement already satisfied: pytz>=2017.2 in /Users/manal/miniconda3/lib/python3.6/site-packages (from pandas>=0.18.0->pymc3) (2019.2)\n",
      "Requirement already satisfied: python-dateutil>=2.6.1 in /Users/manal/miniconda3/lib/python3.6/site-packages (from pandas>=0.18.0->pymc3) (2.8.0)\n",
      "Installing collected packages: statsmodels\n",
      "Successfully installed statsmodels-0.10.1\n",
      "\u001b[33mWARNING: You are using pip version 19.2.3, however version 19.3.1 is available.\n",
      "You should consider upgrading via the 'pip install --upgrade pip' command.\u001b[0m\n"
     ]
    }
   ],
   "source": [
    "# import libraries\n",
    "import numpy as np, pandas as pd\n",
    "from matplotlib import pyplot as plt\n",
    "import seaborn as sns\n",
    "from scipy.optimize import minimize\n",
    "import scipy.stats as stats\n",
    "\n",
    "!pip install pymc3 numdifftools statsmodels\n",
    "import pymc3 as pm3\n",
    "import numdifftools as ndt\n",
    "import statsmodels.api as sm\n",
    "from statsmodels.base.model import GenericLikelihoodModel\n",
    "%matplotlib inline\n",
    "\n"
   ]
  },
  {
   "cell_type": "markdown",
   "metadata": {},
   "source": [
    "generate data that follows a normally distributed errors around a ground truth function, & visualize using Seaborn’s regplot:"
   ]
  },
  {
   "cell_type": "code",
   "execution_count": 7,
   "metadata": {},
   "outputs": [
    {
     "data": {
      "image/png": "[encoded data removed]",
      "text/plain": [
       "<Figure size 432x288 with 1 Axes>"
      ]
     },
     "metadata": {
      "needs_background": "light"
     },
     "output_type": "display_data"
    }
   ],
   "source": [
    "# generate data\n",
    "N = 100\n",
    "x = np.linspace(0,20,N)\n",
    "ϵ = np.random.normal(loc = 0.0, scale = 5.0, size = N)\n",
    "y = 3*x + ϵ\n",
    "df = pd.DataFrame({'y':y, 'x':x})\n",
    "df['constant'] = 1\n",
    "\n",
    "# plot\n",
    "sns.regplot(df.x, df.y);"
   ]
  },
  {
   "cell_type": "markdown",
   "metadata": {},
   "source": [
    "## Modeling OLS with Statsmodels\n",
    "\n",
    "Since we created regression-like, continuous data, now use sm.OLS to calculate the best coefficients and Log-likelihood (LL) as a benchmark, and record the fitted model’s coefficients."
   ]
  },
  {
   "cell_type": "code",
   "execution_count": 9,
   "metadata": {},
   "outputs": [
    {
     "data": {
      "text/html": [
       "<table class=\"simpletable\">\n",
       "<caption>OLS Regression Results</caption>\n",
       "<tr>\n",
       "  <th>Dep. Variable:</th>            <td>y</td>        <th>  R-squared:         </th> <td>   0.941</td>\n",
       "</tr>\n",
       "<tr>\n",
       "  <th>Model:</th>                   <td>OLS</td>       <th>  Adj. R-squared:    </th> <td>   0.940</td>\n",
       "</tr>\n",
       "<tr>\n",
       "  <th>Method:</th>             <td>Least Squares</td>  <th>  F-statistic:       </th> <td>   1561.</td>\n",
       "</tr>\n",
       "<tr>\n",
       "  <th>Date:</th>             <td>Wed, 06 Nov 2019</td> <th>  Prob (F-statistic):</th> <td>5.23e-62</td>\n",
       "</tr>\n",
       "<tr>\n",
       "  <th>Time:</th>                 <td>20:37:25</td>     <th>  Log-Likelihood:    </th> <td> -293.00</td>\n",
       "</tr>\n",
       "<tr>\n",
       "  <th>No. Observations:</th>      <td>   100</td>      <th>  AIC:               </th> <td>   590.0</td>\n",
       "</tr>\n",
       "<tr>\n",
       "  <th>Df Residuals:</th>          <td>    98</td>      <th>  BIC:               </th> <td>   595.2</td>\n",
       "</tr>\n",
       "<tr>\n",
       "  <th>Df Model:</th>              <td>     1</td>      <th>                     </th>     <td> </td>   \n",
       "</tr>\n",
       "<tr>\n",
       "  <th>Covariance Type:</th>      <td>nonrobust</td>    <th>                     </th>     <td> </td>   \n",
       "</tr>\n",
       "</table>\n",
       "<table class=\"simpletable\">\n",
       "<tr>\n",
       "      <td></td>        <th>coef</th>     <th>std err</th>      <th>t</th>      <th>P>|t|</th>  <th>[0.025</th>    <th>0.975]</th>  \n",
       "</tr>\n",
       "<tr>\n",
       "  <th>constant</th> <td>    0.1742</td> <td>    0.909</td> <td>    0.192</td> <td> 0.848</td> <td>   -1.629</td> <td>    1.977</td>\n",
       "</tr>\n",
       "<tr>\n",
       "  <th>x</th>        <td>    3.1012</td> <td>    0.078</td> <td>   39.507</td> <td> 0.000</td> <td>    2.945</td> <td>    3.257</td>\n",
       "</tr>\n",
       "</table>\n",
       "<table class=\"simpletable\">\n",
       "<tr>\n",
       "  <th>Omnibus:</th>       <td> 0.134</td> <th>  Durbin-Watson:     </th> <td>   2.065</td>\n",
       "</tr>\n",
       "<tr>\n",
       "  <th>Prob(Omnibus):</th> <td> 0.935</td> <th>  Jarque-Bera (JB):  </th> <td>   0.262</td>\n",
       "</tr>\n",
       "<tr>\n",
       "  <th>Skew:</th>          <td> 0.076</td> <th>  Prob(JB):          </th> <td>   0.877</td>\n",
       "</tr>\n",
       "<tr>\n",
       "  <th>Kurtosis:</th>      <td> 2.801</td> <th>  Cond. No.          </th> <td>    23.1</td>\n",
       "</tr>\n",
       "</table><br/><br/>Warnings:<br/>[1] Standard Errors assume that the covariance matrix of the errors is correctly specified."
      ],
      "text/plain": [
       "<class 'statsmodels.iolib.summary.Summary'>\n",
       "\"\"\"\n",
       "                            OLS Regression Results                            \n",
       "==============================================================================\n",
       "Dep. Variable:                      y   R-squared:                       0.941\n",
       "Model:                            OLS   Adj. R-squared:                  0.940\n",
       "Method:                 Least Squares   F-statistic:                     1561.\n",
       "Date:                Wed, 06 Nov 2019   Prob (F-statistic):           5.23e-62\n",
       "Time:                        20:37:25   Log-Likelihood:                -293.00\n",
       "No. Observations:                 100   AIC:                             590.0\n",
       "Df Residuals:                      98   BIC:                             595.2\n",
       "Df Model:                           1                                         \n",
       "Covariance Type:            nonrobust                                         \n",
       "==============================================================================\n",
       "                 coef    std err          t      P>|t|      [0.025      0.975]\n",
       "------------------------------------------------------------------------------\n",
       "constant       0.1742      0.909      0.192      0.848      -1.629       1.977\n",
       "x              3.1012      0.078     39.507      0.000       2.945       3.257\n",
       "==============================================================================\n",
       "Omnibus:                        0.134   Durbin-Watson:                   2.065\n",
       "Prob(Omnibus):                  0.935   Jarque-Bera (JB):                0.262\n",
       "Skew:                           0.076   Prob(JB):                        0.877\n",
       "Kurtosis:                       2.801   Cond. No.                         23.1\n",
       "==============================================================================\n",
       "\n",
       "Warnings:\n",
       "[1] Standard Errors assume that the covariance matrix of the errors is correctly specified.\n",
       "\"\"\""
      ]
     },
     "execution_count": 9,
     "metadata": {},
     "output_type": "execute_result"
    }
   ],
   "source": [
    "# split features and target\n",
    "X = df[['constant', 'x']]\n",
    "# fit model and summarize\n",
    "sm.OLS(y,X).fit().summary()"
   ]
  },
  {
   "cell_type": "markdown",
   "metadata": {},
   "source": [
    "Notice constant is close to zero, and beta for feature x is close to 3, per the ground truth generator we used"
   ]
  },
  {
   "cell_type": "markdown",
   "metadata": {},
   "source": [
    "## Maximizing LL to solve for Optimal Coefficients\n",
    "Using a combination of packages and custom functions to see if we can calculate the same OLS results above using MLE methods.\n",
    "\n",
    "Because scipy.optimize has only a minimize method, we'll minimize the negative of the log-likelihood. This is even what they recommend! \n",
    "\n",
    "We can build a simple function that does everything in one pass for regression outputs:"
   ]
  },
  {
   "cell_type": "code",
   "execution_count": 10,
   "metadata": {},
   "outputs": [],
   "source": [
    "# define likelihood function\n",
    "def MLERegression(params):\n",
    "    intercept, beta, sd = params[0], params[1], params[2] # inputs are guesses at our parameters\n",
    "    yhat = intercept + beta*x # predictions\n",
    "    # next, we flip the Bayesian question\n",
    "    # compute PDF of observed values normally distributed around mean (yhat)\n",
    "    # with a standard deviation of sd\n",
    "    negLL = -np.sum( stats.norm.logpdf(y, loc=yhat, scale=sd) )\n",
    "    # return negative LL\n",
    "    return(negLL)"
   ]
  },
  {
   "cell_type": "markdown",
   "metadata": {},
   "source": [
    "Now that we have a cost function, let’s initialize and minimize it:"
   ]
  },
  {
   "cell_type": "code",
   "execution_count": 12,
   "metadata": {},
   "outputs": [
    {
     "name": "stdout",
     "output_type": "stream",
     "text": [
      "Optimization terminated successfully.\n",
      "         Current function value: 293.001761\n",
      "         Iterations: 98\n",
      "         Function evaluations: 176\n"
     ]
    }
   ],
   "source": [
    "# let’s start with some random coefficient guesses and optimize\n",
    "guess = np.array([5,5,2])\n",
    "results = minimize(MLERegression, guess, method = 'Nelder-Mead', \n",
    " options={'disp': True})\n"
   ]
  },
  {
   "cell_type": "markdown",
   "metadata": {},
   "source": [
    "Let’s check the results:"
   ]
  },
  {
   "cell_type": "code",
   "execution_count": 13,
   "metadata": {},
   "outputs": [
    {
     "data": {
      "text/plain": [
       " final_simplex: (array([[0.17414544, 3.1012276 , 4.53162981],\n",
       "       [0.17422879, 3.10122458, 4.53164667],\n",
       "       [0.17424262, 3.10121812, 4.53162718],\n",
       "       [0.17423346, 3.10122002, 4.5316541 ]]), array([293.0017614 , 293.0017614 , 293.0017614 , 293.00176141]))\n",
       "           fun: 293.00176139970586\n",
       "       message: 'Optimization terminated successfully.'\n",
       "          nfev: 176\n",
       "           nit: 98\n",
       "        status: 0\n",
       "       success: True\n",
       "             x: array([0.17414544, 3.1012276 , 4.53162981])"
      ]
     },
     "execution_count": 13,
     "metadata": {},
     "output_type": "execute_result"
    }
   ],
   "source": [
    "results # this gives us verbosity around our minimization\n",
    "# notice our final key and associated values…"
   ]
  },
  {
   "cell_type": "markdown",
   "metadata": {},
   "source": [
    "And we can clean up further:"
   ]
  },
  {
   "cell_type": "code",
   "execution_count": 14,
   "metadata": {},
   "outputs": [
    {
     "data": {
      "text/html": [
       "<div>\n",
       "<style scoped>\n",
       "    .dataframe tbody tr th:only-of-type {\n",
       "        vertical-align: middle;\n",
       "    }\n",
       "\n",
       "    .dataframe tbody tr th {\n",
       "        vertical-align: top;\n",
       "    }\n",
       "\n",
       "    .dataframe thead th {\n",
       "        text-align: right;\n",
       "    }\n",
       "</style>\n",
       "<table border=\"1\" class=\"dataframe\">\n",
       "  <thead>\n",
       "    <tr style=\"text-align: right;\">\n",
       "      <th></th>\n",
       "      <th>coef</th>\n",
       "    </tr>\n",
       "  </thead>\n",
       "  <tbody>\n",
       "    <tr>\n",
       "      <td>constant</td>\n",
       "      <td>0.1741</td>\n",
       "    </tr>\n",
       "    <tr>\n",
       "      <td>x</td>\n",
       "      <td>3.1012</td>\n",
       "    </tr>\n",
       "  </tbody>\n",
       "</table>\n",
       "</div>"
      ],
      "text/plain": [
       "            coef\n",
       "constant  0.1741\n",
       "x         3.1012"
      ]
     },
     "execution_count": 14,
     "metadata": {},
     "output_type": "execute_result"
    }
   ],
   "source": [
    "# drop results into df and round to match statsmodels\n",
    "resultsdf = pd.DataFrame({'coef':results['x']})\n",
    "resultsdf.index=['constant','x','sigma']   \n",
    "np.round(resultsdf.head(2), 4)\n"
   ]
  },
  {
   "cell_type": "markdown",
   "metadata": {},
   "source": [
    "do our numbers match the OLS model?"
   ]
  },
  {
   "cell_type": "markdown",
   "metadata": {},
   "source": [
    "# MLE vs. MAP\n",
    "\n",
    "MLE and MAP are very similar, but MLE is a special case of MAP, where a uniform prior is used.\n",
    "\n",
    "Some Definitions:\n",
    "MLE produces a point estimate that maximizes likelihood function of the unknow parameters given observations (i.e., data)\n",
    "\n",
    "MAP is a generalized case of MLE. It also produces a point estimate, which is the mode of the posterior distribution of the parameters\n",
    "\n",
    "Expectation Maximisation (EM) is an iterative method that tries to find MLE/MAP estimates of parameters when marginal probability is intractable (e.g., when there’re missing data or latent variables)\n",
    "\n",
    "Variational Inference (VI) is a Bayesian method that provides a posterior distribution over the parameters instead of point estimates.\n",
    "\n",
    "Example: \n",
    "Suppose that we have a coin but we do not know if it is fair not. In other words, we have no idea whether the probability of getting head (H) is the same as tail (T). In this case, how can we estimate such probability?\n",
    "\n",
    "A natural way to do this is to flip this coin for several times to see how many H’s and T’s do we have. Let’s go with a random experiment. Before we start the experiment, let’s define some notations:\n",
    "\n",
    "X: a random variable that represents the coin toss outcome (1 for H and 0 for T)\n",
    "θ: the probability of getting H \n",
    "\n",
    "Now, let’s assume that we don’t know θ (here, we will use θ = 0.7) and we are going to use random number generator to get some samples and see what the data is like. Let’s start by flip the coin 10 times."
   ]
  },
  {
   "cell_type": "code",
   "execution_count": 16,
   "metadata": {},
   "outputs": [
    {
     "data": {
      "text/plain": [
       "array([0, 1, 0, 0, 1, 1, 1, 1, 1, 1])"
      ]
     },
     "execution_count": 16,
     "metadata": {},
     "output_type": "execute_result"
    }
   ],
   "source": [
    "import numpy as np\n",
    "import scipy as sp\n",
    "import seaborn as sns\n",
    "from matplotlib import pyplot as plt\n",
    "%matplotlib inline\n",
    "\n",
    "n = 10\n",
    "theta = 0.7\n",
    "X_arr = np.random.choice([0, 1], p=[1-theta, theta], size=10)\n",
    "X_arr\n"
   ]
  },
  {
   "cell_type": "markdown",
   "metadata": {},
   "source": [
    "We get 7 H’s and 3 T’s. Intuitively, we will do the following calculation even if we are not statisticians:\n",
    "\n",
    "θ = 7 / 10 = 0.7\n",
    "\n",
    "This seems to be a reasonable guess. \n",
    "\n",
    "MLE\n",
    "\n",
    "In fact, θ is exactly what we get by using MLE! In the context of a coin toss, we can use Bernoulli distribution to model x :\n",
    "\n",
    "p(x=1)=θ=1−p(x=0)=1−θ\n",
    "\n",
    "MLE states that our best guess (techinically, estimation) for θ based on observations we have. Specifically, such θ should be maximizing the likelihood function L(θ;x). That’s also why this method is named maximum likelihood estimation.\n",
    "\n",
    "Concretely, in our example, we can write down the probability mass function of x to be:\n",
    "\n",
    "p(x | θ) = θ^x (1−θ)^(1−x)\n",
    "\n",
    "What’s likelihood function then? It is actually just the equation above. However, instead of thinking p(x) as a function of x, we think of it as a function of θ, given the data:\n",
    "\n",
    "L(θ;x) = θ^x (1−θ)^(1−x)\n",
    "\n",
    "we can apply the LL (log likelihood) equations as explained in the tutorial slides"
   ]
  },
  {
   "cell_type": "markdown",
   "metadata": {},
   "source": [
    "## MAP\n",
    "\n",
    "MLE works pretty well in the previous example. However, this is not as intuitive as how human infers something. Typically, our belief on things may vary over time. Specifically, we start with some prior knowledge to draw an initial guess. With more evidence, we can then modify our belief and obtain posterior probability of some events of interest. This is exactly Bayesian statistics.\n",
    "\n",
    "Note that MAP is not completely Bayesian because it only gives a point estimate\n",
    "\n",
    "Back to the coin toss example. If our data looks like this:"
   ]
  },
  {
   "cell_type": "code",
   "execution_count": 26,
   "metadata": {},
   "outputs": [
    {
     "data": {
      "text/plain": [
       "array([1., 1., 1., 1., 1., 1., 1., 1., 1., 1.])"
      ]
     },
     "execution_count": 26,
     "metadata": {},
     "output_type": "execute_result"
    }
   ],
   "source": [
    "X_arr = np.ones(n)\n",
    "X_arr"
   ]
  },
  {
   "cell_type": "markdown",
   "metadata": {},
   "source": [
    "## Visualizing MAP\n",
    "\n",
    "As a last example, let’s see the iterative process of how posterior is updated given new data. Let’s assume the true \n",
    "θ to be 0.7. Let’s use a non-flat Beta prior with α = β = 2."
   ]
  },
  {
   "cell_type": "code",
   "execution_count": 27,
   "metadata": {},
   "outputs": [
    {
     "data": {
      "text/plain": [
       "0.7"
      ]
     },
     "execution_count": 27,
     "metadata": {},
     "output_type": "execute_result"
    }
   ],
   "source": [
    "alpha = beta = 2\n",
    "theta = 0.7\n",
    "n = 50\n",
    "X_arr = np.random.choice([0, 1], p=[1-theta, theta], size=n)\n",
    "sum(X_arr) /  X_arr.size"
   ]
  },
  {
   "cell_type": "markdown",
   "metadata": {},
   "source": [
    "Recall that our posterior is updated as Beta(α+xi,β+1−xi) with every input data xi."
   ]
  },
  {
   "cell_type": "code",
   "execution_count": 28,
   "metadata": {},
   "outputs": [],
   "source": [
    "beta_arr = np.asarray([[alpha+sum(X_arr[:i+1]), beta+(i+1-sum(X_arr[:i+1]))] for i in range(X_arr.size)])\n",
    "beta_arr = np.insert(beta_arr, 0, [alpha, beta], 0)"
   ]
  },
  {
   "cell_type": "markdown",
   "metadata": {},
   "source": [
    "Let’s see how the posterior changes when we have more data points"
   ]
  },
  {
   "cell_type": "code",
   "execution_count": 29,
   "metadata": {},
   "outputs": [
    {
     "data": {
      "image/png": "[encoded data removed]",
      "text/plain": [
       "<Figure size 1152x288 with 4 Axes>"
      ]
     },
     "metadata": {
      "needs_background": "light"
     },
     "output_type": "display_data"
    }
   ],
   "source": [
    "beta_X = np.linspace(0, 1, 1000)\n",
    "my_color = '#2E8B57'\n",
    "fig, ax_arr = plt.subplots(ncols=4, figsize=(16,4), sharex=True)\n",
    "for i, iter_ in enumerate([0, 5, 15, 30]):\n",
    "    ax = ax_arr[i]\n",
    "    a, b = beta_arr[iter_]\n",
    "    beta_Y = sp.stats.beta.pdf(x=beta_X, a=a, b=b)\n",
    "    ax.plot(beta_X, beta_Y, color=my_color, linewidth=3)\n",
    "    if a > 1 and b > 1:\n",
    "        mode = (a-1)/(a+b-2)\n",
    "    else:\n",
    "        mode = a/(a+b)\n",
    "    ax.axvline(x=mode, linestyle='--', color='k')\n",
    "    ax.set_title('Iteration %d: $\\hat{\\\\theta}_{MAP}$ = %.2f'%(iter_, mode))\n",
    "fig.tight_layout()"
   ]
  },
  {
   "cell_type": "markdown",
   "metadata": {},
   "source": [
    "# Another MLE Example:"
   ]
  },
  {
   "cell_type": "markdown",
   "metadata": {},
   "source": [
    "Maximum Likelihood Estimation of Custom Models in Python with StatsModels\n",
    "based on http://austinrochford.com/posts/2015-03-03-mle-python-statsmodels.html\n",
    "Distribution\n",
    "Uses custom zero-inflated Poisson model.\n",
    "\n",
    "P(X = x) = (1 - \\pi) e ^{-\\lambda} \\frac{\\lambda^{x}}{x!},\n",
    "\n",
    "for x > 0"
   ]
  },
  {
   "cell_type": "code",
   "execution_count": 30,
   "metadata": {},
   "outputs": [],
   "source": [
    "import matplotlib\n",
    "from matplotlib import pyplot as plt\n",
    "import numpy as np\n",
    "from scipy import stats\n",
    "import seaborn as sns\n",
    "from statsmodels.base.model import GenericLikelihoodModel\n",
    "\n",
    "# list available fonts: [f.name for f in matplotlib.font_manager.fontManager.ttflist]\n",
    "# fix warning: /opt/conda/lib/python3.6/site-packages/matplotlib/font_manager.py:1297: UserWarning: findfont: Font family ['sans-serif'] not found. Falling back to DejaVu Sans\n",
    "matplotlib.rc('font', family='DejaVu Sans')\n",
    "\n",
    "pi_default = 0.3\n",
    "lambda_default = 2.0"
   ]
  },
  {
   "cell_type": "code",
   "execution_count": 31,
   "metadata": {},
   "outputs": [],
   "source": [
    "def zip_pmf(x, pi=pi_default, lambda_=lambda_default):\n",
    "    if pi < 0 or pi > 1 or lambda_ <= 0:\n",
    "        return np.zeros_like(x)\n",
    "    else:\n",
    "        return (x == 0) * pi + (1 - pi) * stats.poisson.pmf(x, lambda_)"
   ]
  },
  {
   "cell_type": "code",
   "execution_count": 32,
   "metadata": {},
   "outputs": [
    {
     "data": {
      "image/png": "[encoded data removed]",
      "text/plain": [
       "<Figure size 576x432 with 1 Axes>"
      ]
     },
     "metadata": {
      "needs_background": "light"
     },
     "output_type": "display_data"
    }
   ],
   "source": [
    "fig, ax = plt.subplots(figsize=(8, 6))\n",
    "\n",
    "xs = np.arange(0, 10);\n",
    "\n",
    "palette = sns.color_palette()\n",
    "\n",
    "ax.bar(2.5 * xs, stats.poisson.pmf(xs, lambda_default), width=0.9, color=palette[0], label='Poisson');\n",
    "ax.bar(2.5 * xs + 1, zip_pmf(xs), width=0.9, color=palette[1], label='Zero-inflated Poisson');\n",
    "\n",
    "ax.set_xticks(2.5 * xs + 1);\n",
    "ax.set_xticklabels(xs);\n",
    "ax.set_xlabel('$x$');\n",
    "\n",
    "ax.set_ylabel('$P(X = x)$');\n",
    "\n",
    "ax.legend();\n",
    "plt.show()"
   ]
  },
  {
   "cell_type": "markdown",
   "metadata": {},
   "source": [
    "\n",
    "Maximum likelihood estimation"
   ]
  },
  {
   "cell_type": "code",
   "execution_count": 33,
   "metadata": {},
   "outputs": [],
   "source": [
    "N = 1000 # observations\n",
    "inflated_zero = stats.bernoulli.rvs(pi_default, size=N)\n",
    "x = (1 - inflated_zero) * stats.poisson.rvs(lambda_default, size=N)"
   ]
  },
  {
   "cell_type": "code",
   "execution_count": 34,
   "metadata": {},
   "outputs": [
    {
     "name": "stderr",
     "output_type": "stream",
     "text": [
      "/Users/manal/miniconda3/lib/python3.6/site-packages/ipykernel_launcher.py:3: MatplotlibDeprecationWarning: \n",
      "The 'normed' kwarg was deprecated in Matplotlib 2.1 and will be removed in 3.1. Use 'density' instead.\n",
      "  This is separate from the ipykernel package so we can avoid doing imports until\n"
     ]
    },
    {
     "data": {
      "image/png": "[encoded data removed]",
      "text/plain": [
       "<Figure size 576x432 with 1 Axes>"
      ]
     },
     "metadata": {
      "needs_background": "light"
     },
     "output_type": "display_data"
    }
   ],
   "source": [
    "fig, ax = plt.subplots(figsize=(8, 6))\n",
    "\n",
    "ax.hist(x, width=0.8, bins=np.arange(x.max() + 1), normed=True, color=palette[1]);\n",
    "\n",
    "ax.set_xticks(np.arange(x.max() + 1) + 0.4);\n",
    "ax.set_xticklabels(np.arange(x.max() + 1));\n",
    "ax.set_xlabel('$x$');\n",
    "\n",
    "ax.set_ylabel('Proportion of samples');\n",
    "\n",
    "plt.show()"
   ]
  },
  {
   "cell_type": "markdown",
   "metadata": {},
   "source": [
    "Estimate parameters \\pi and \\lambda"
   ]
  },
  {
   "cell_type": "code",
   "execution_count": 35,
   "metadata": {},
   "outputs": [],
   "source": [
    "class ZeroInflatedPoisson(GenericLikelihoodModel):\n",
    "    def __init__(self, endog, exog=None, **kwds):\n",
    "        if exog is None:\n",
    "            exog = np.zeros_like(endog)\n",
    "            \n",
    "        super().__init__(endog, exog, **kwds)\n",
    "    \n",
    "    def nloglikeobs(self, params):\n",
    "        pi = params[0]\n",
    "        lambda_ = params[1]\n",
    "\n",
    "        return -np.log(zip_pmf(self.endog, pi=pi, lambda_=lambda_))\n",
    "    \n",
    "    def fit(self, start_params=None, maxiter=10000, maxfun=5000, **kwds):\n",
    "        if start_params is None:\n",
    "            lambda_start = self.endog.mean()\n",
    "            excess_zeros = (self.endog == 0).mean() - stats.poisson.pmf(0, lambda_start)\n",
    "            \n",
    "            start_params = np.array([excess_zeros, lambda_start])\n",
    "            \n",
    "        return super().fit(start_params=start_params, maxiter=maxiter, maxfun=maxfun, **kwds)"
   ]
  },
  {
   "cell_type": "code",
   "execution_count": 36,
   "metadata": {},
   "outputs": [
    {
     "name": "stdout",
     "output_type": "stream",
     "text": [
      "Optimization terminated successfully.\n",
      "         Current function value: 1.586385\n",
      "         Iterations: 39\n",
      "         Function evaluations: 74\n"
     ]
    },
    {
     "data": {
      "text/plain": [
       "(0.30456084662134125, 2.0289473949517696)"
      ]
     },
     "execution_count": 36,
     "metadata": {},
     "output_type": "execute_result"
    }
   ],
   "source": [
    "model = ZeroInflatedPoisson(x)\n",
    "results = model.fit()\n",
    "\n",
    "pi_mle, lambda_mle = results.params\n",
    "\n",
    "pi_mle, lambda_mle"
   ]
  },
  {
   "cell_type": "markdown",
   "metadata": {},
   "source": [
    "# Maximum Likelihood Estimation vs Maximum a Posteriori Notebook\n",
    "\n",
    "Create Simulation Enviroment\n",
    "In this example $Y=AX+N$ simulation enviroment will be created. In this equation:\n",
    "Y is the observation\n",
    "A is system geometry parameters\n",
    "X is varible (the thing which is observed )\n",
    "N is randomly distrubuted zero mean gaussian noise\n",
    "Size of this vector and matrices are:  Y_{mx1}=A_{mxn}X_{nx1} + N_{mx1} \n",
    "\n"
   ]
  },
  {
   "cell_type": "code",
   "execution_count": 37,
   "metadata": {},
   "outputs": [],
   "source": [
    "import numpy as np\n",
    "import matplotlib.pyplot as plt\n",
    "from scipy import misc\n",
    "\n",
    "#plt.rcParams['figure.figsize'] = [10, 5]\n",
    "%matplotlib notebook"
   ]
  },
  {
   "cell_type": "markdown",
   "metadata": {},
   "source": [
    "Helper Functions"
   ]
  },
  {
   "cell_type": "code",
   "execution_count": 38,
   "metadata": {},
   "outputs": [],
   "source": [
    "#convert to vector\n",
    "def toVector(a):\n",
    "    return a.reshape(-1,1) \n",
    "    \n",
    "def toImage(a):\n",
    "    return a.reshape(K,L)\n",
    "\n",
    "def convLog(arr):\n",
    "    sample10 = np.mean( arr[0:10] )\n",
    "    sample100 = np.mean( arr[0:100] )\n",
    "    sample1_000 = np.mean( arr[0:1000] )\n",
    "    sample10_000 = np.mean( arr[0:10000] )\n",
    "    return [sample10, sample100, sample1_000, sample10_000]"
   ]
  },
  {
   "cell_type": "markdown",
   "metadata": {},
   "source": [
    "Implementation of ML and MAP at 100x100"
   ]
  },
  {
   "cell_type": "code",
   "execution_count": 39,
   "metadata": {},
   "outputs": [
    {
     "ename": "AttributeError",
     "evalue": "module 'scipy.misc' has no attribute 'imread'",
     "output_type": "error",
     "traceback": [
      "\u001b[0;31m---------------------------------------------------------------------------\u001b[0m",
      "\u001b[0;31mAttributeError\u001b[0m                            Traceback (most recent call last)",
      "\u001b[0;32m<ipython-input-39-15d8657f3f50>\u001b[0m in \u001b[0;36m<module>\u001b[0;34m\u001b[0m\n\u001b[1;32m      5\u001b[0m \u001b[0;34m\u001b[0m\u001b[0m\n\u001b[1;32m      6\u001b[0m \u001b[0;31m# Create X read image\u001b[0m\u001b[0;34m\u001b[0m\u001b[0;34m\u001b[0m\u001b[0m\n\u001b[0;32m----> 7\u001b[0;31m \u001b[0mX_image\u001b[0m \u001b[0;34m=\u001b[0m \u001b[0mmisc\u001b[0m\u001b[0;34m.\u001b[0m\u001b[0mimread\u001b[0m\u001b[0;34m(\u001b[0m\u001b[0;34m'test/test1.jpg'\u001b[0m\u001b[0;34m,\u001b[0m \u001b[0mmode\u001b[0m\u001b[0;34m=\u001b[0m\u001b[0;34m\"L\"\u001b[0m\u001b[0;34m)\u001b[0m \u001b[0;31m# grayscale mode\u001b[0m\u001b[0;34m\u001b[0m\u001b[0m\n\u001b[0m\u001b[1;32m      8\u001b[0m \u001b[0mX_image\u001b[0m \u001b[0;34m=\u001b[0m \u001b[0mmisc\u001b[0m\u001b[0;34m.\u001b[0m\u001b[0mimresize\u001b[0m\u001b[0;34m(\u001b[0m\u001b[0mX_image\u001b[0m\u001b[0;34m,\u001b[0m \u001b[0;34m(\u001b[0m\u001b[0mK\u001b[0m\u001b[0;34m,\u001b[0m\u001b[0mL\u001b[0m\u001b[0;34m)\u001b[0m\u001b[0;34m)\u001b[0m\u001b[0;34m/\u001b[0m \u001b[0;36m255\u001b[0m \u001b[0;31m# normalize image\u001b[0m\u001b[0;34m\u001b[0m\u001b[0m\n\u001b[1;32m      9\u001b[0m \u001b[0mX\u001b[0m \u001b[0;34m=\u001b[0m \u001b[0mtoVector\u001b[0m\u001b[0;34m(\u001b[0m\u001b[0mX_image\u001b[0m\u001b[0;34m)\u001b[0m\u001b[0;34m\u001b[0m\u001b[0m\n",
      "\u001b[0;31mAttributeError\u001b[0m: module 'scipy.misc' has no attribute 'imread'"
     ]
    }
   ],
   "source": [
    "K = 100\n",
    "L = 100\n",
    "m = int(1.2*K*L)\n",
    "n = K*L\n",
    "\n",
    "# Create X read image\n",
    "X_image = misc.imread('test/test1.jpg', mode=\"L\") # grayscale mode\n",
    "X_image = misc.imresize(X_image, (K,L))/ 255 # normalize image\n",
    "X = toVector(X_image)\n",
    "A = np.random.rand(m,n)\n",
    "\n",
    "\n",
    "def calculateMaxlikelihood(A, X, NoisePower):\n",
    "    # every time new noise will be generated randomly\n",
    "    N =  (np.random.rand(m,1)-0.5) * NoisePower\n",
    "    Y = A@X + N\n",
    "    # return Xml\n",
    "    return  np.linalg.inv(A.transpose() @ A ) @ A.transpose() @ Y\n",
    "\n",
    "def calculateMaximumAPosteriori(A, X, NoisePower, B):\n",
    "    # every time new noise will be generated randomly\n",
    "    N =  (np.random.rand(m,1)-0.5) * NoisePower\n",
    "    Y = A@X + N\n",
    "    I1 = np.ones((n,n))\n",
    "    I2 = np.ones((n,1))\n",
    "    # return Xmap\n",
    "    return  np.linalg.inv(A.transpose() @ A + B * I1 ) @ ( A.transpose() @ Y + B*X.mean()*I2)\n",
    "\n",
    "print(\"Started.\")\n",
    "Xml =  calculateMaxlikelihood(A,X,1)\n",
    "print(\"ML done.\")\n",
    "Xmap01 =  calculateMaximumAPosteriori(A,X,1,0.1)\n",
    "print(\"MAP01 done\")\n",
    "Xmap03 =  calculateMaximumAPosteriori(A,X,1,0.3)\n",
    "print(\"MAP03 done\")\n",
    "Xmap05 =  calculateMaximumAPosteriori(A,X,1,0.5)\n",
    "print(\"MAP05 done\")\n",
    "Xmap10 =  calculateMaximumAPosteriori(A,X,1,1.0)\n",
    "print(\"MAP10 done\")"
   ]
  },
  {
   "cell_type": "code",
   "execution_count": null,
   "metadata": {},
   "outputs": [],
   "source": []
  }
 ],
 "metadata": {
  "kernelspec": {
   "display_name": "Python 3",
   "language": "python",
   "name": "python3"
  },
  "language_info": {
   "codemirror_mode": {
    "name": "ipython",
    "version": 3
   },
   "file_extension": ".py",
   "mimetype": "text/x-python",
   "name": "python",
   "nbconvert_exporter": "python",
   "pygments_lexer": "ipython3",
   "version": "3.6.4"
  }
 },
 "nbformat": 4,
 "nbformat_minor": 2
}
