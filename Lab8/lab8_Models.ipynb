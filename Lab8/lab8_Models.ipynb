{
 "cells": [
  {
   "cell_type": "markdown",
   "metadata": {},
   "source": [
    "## Lab 8: Model Building\n",
    "\n",
    "First we will start with accuracy measures using confusion matrix\n",
    "\n",
    "Then will be back to chapter 7 in the Steven Skiena book and the accompanying notebook that generated the figures below for choosing threshold estimators, and ROC\n",
    "\n",
    "Then will work on cross validation examples from scikit-learn python library."
   ]
  },
  {
   "cell_type": "markdown",
   "metadata": {},
   "source": [
    "# Confusion Matrix\n",
    "\n",
    "The following code shows a confusion matrix for a multi-class machine learning problem with ten labels, so for example an algorithms for recognizing the ten digits from handwritten characters."
   ]
  },
  {
   "cell_type": "code",
   "execution_count": 38,
   "metadata": {},
   "outputs": [],
   "source": [
    "import numpy as np\n",
    "cm = np.array(\n",
    "[[5825,    1,   49,   23,    7,   46,   30,   12,   21,   26],\n",
    " [   1, 6654,   48,   25,   10,   32,   19,   62,  111,   10],\n",
    " [   2,   20, 5561,   69,   13,   10,    2,   45,   18,    2],\n",
    " [   6,   26,   99, 5786,    5,  111,    1,   41,  110,   79],\n",
    " [   4,   10,   43,    6, 5533,   32,   11,   53,   34,   79],\n",
    " [   3,    1,    2,   56,    0, 4954,   23,    0,   12,    5],\n",
    " [  31,    4,   42,   22,   45,  103, 5806,    3,   34,    3],\n",
    " [   0,    4,   30,   29,    5,    6,    0, 5817,    2,   28],\n",
    " [  35,    6,   63,   58,    8,   59,   26,   13, 5394,   24],\n",
    " [  16,   16,   21,   57,  216,   68,    0,  219,  115, 5693]])"
   ]
  },
  {
   "cell_type": "markdown",
   "metadata": {},
   "source": [
    "The functions 'precision' and 'recall' calculate values for a label, whereas the function 'precision_macro_average' the precision for the whole classification problem calculates."
   ]
  },
  {
   "cell_type": "code",
   "execution_count": 39,
   "metadata": {},
   "outputs": [
    {
     "name": "stdout",
     "output_type": "stream",
     "text": [
      "label precision recall\n",
      "    0     0.983  0.964\n",
      "    1     0.987  0.954\n",
      "    2     0.933  0.968\n",
      "    3     0.944  0.924\n",
      "    4     0.947  0.953\n",
      "    5     0.914  0.980\n",
      "    6     0.981  0.953\n",
      "    7     0.928  0.982\n",
      "    8     0.922  0.949\n",
      "    9     0.957  0.887\n"
     ]
    }
   ],
   "source": [
    "def precision(label, confusion_matrix):\n",
    "    col = confusion_matrix[:, label]\n",
    "    return confusion_matrix[label, label] / col.sum()\n",
    "    \n",
    "def recall(label, confusion_matrix):\n",
    "    row = confusion_matrix[label, :]\n",
    "    return confusion_matrix[label, label] / row.sum()\n",
    "def precision_macro_average(confusion_matrix):\n",
    "    rows, columns = confusion_matrix.shape\n",
    "    sum_of_precisions = 0\n",
    "    for label in range(rows):\n",
    "        sum_of_precisions += precision(label, confusion_matrix)\n",
    "    return sum_of_precisions / rows\n",
    "def recall_macro_average(confusion_matrix):\n",
    "    rows, columns = confusion_matrix.shape\n",
    "    sum_of_recalls = 0\n",
    "    for label in range(columns):\n",
    "        sum_of_recalls += recall(label, confusion_matrix)\n",
    "    return sum_of_recalls / columns\n",
    "print(\"label precision recall\")\n",
    "for label in range(10):\n",
    "    print(f\"{label:5d} {precision(label, cm):9.3f} {recall(label, cm):6.3f}\")"
   ]
  },
  {
   "cell_type": "code",
   "execution_count": 40,
   "metadata": {},
   "outputs": [
    {
     "name": "stdout",
     "output_type": "stream",
     "text": [
      "precision total: 0.9496885564052286\n",
      "recall total: 0.9514531547877969\n"
     ]
    }
   ],
   "source": [
    "print(\"precision total:\", precision_macro_average(cm))\n",
    "print(\"recall total:\", recall_macro_average(cm))"
   ]
  },
  {
   "cell_type": "code",
   "execution_count": 41,
   "metadata": {},
   "outputs": [
    {
     "data": {
      "text/plain": [
       "0.9503833333333334"
      ]
     },
     "execution_count": 41,
     "metadata": {},
     "output_type": "execute_result"
    }
   ],
   "source": [
    "def accuracy(confusion_matrix):\n",
    "    diagonal_sum = confusion_matrix.trace()\n",
    "    sum_of_all_elements = confusion_matrix.sum()\n",
    "    return diagonal_sum / sum_of_all_elements \n",
    "accuracy(cm)"
   ]
  },
  {
   "cell_type": "markdown",
   "metadata": {},
   "source": [
    "# Chapter 7 Examples:\n",
    "\n",
    "Evaluating a classifier means measuring how accurately our predicted labels match the gold standard labels in the evaluation set. For the common case of two distinct labels or classes (binary classification), we typically call the smaller and more interesting of the two classes as positive and the larger/other class as negative. In a spam classification problem, the spam would typically be positive and the ham (non-spam) would be negative. This labeling aims to ensure that identifying the positives is at least as hard as identifying the negatives, although often the test instances are selected so that the classes are of equal cardinality. There are four possible results of what the classification model could do on any given instance, which defines the confusion matrix or contingency table shown in Figure 7.3:\n",
    "\n",
    "• True Positives (TP): Here our classifier labels a positive item as positive, resulting in a win for the classifier.\n",
    "• True Negatives (TN): Here the classifier correctly determines that a mem- ber of the negative class deserves a negative label. Another win.\n",
    "• False Positives (FP): The classifier mistakenly calls a negative item as a positive, resulting in a “type I” classification error.\n",
    "• False Negatives (FN): The classifier mistakenly declares a positive item as negative, resulting in a “type II” classification error.\n"
   ]
  },
  {
   "cell_type": "code",
   "execution_count": 1,
   "metadata": {},
   "outputs": [],
   "source": [
    "from scipy import stats\n",
    "import pandas as pd\n",
    "import matplotlib.pyplot as plt\n",
    "import numpy as np\n",
    "from sklearn.metrics import roc_curve\n",
    "%matplotlib inline"
   ]
  },
  {
   "cell_type": "markdown",
   "metadata": {},
   "source": [
    "### Figure 7.3 and 7.6 Left\n",
    "#### Data Source: https://www.statcrunch.com/app/index.php?dataid=1406047"
   ]
  },
  {
   "cell_type": "code",
   "execution_count": 4,
   "metadata": {
    "scrolled": false
   },
   "outputs": [
    {
     "name": "stderr",
     "output_type": "stream",
     "text": [
      "/Users/manal/miniconda3/lib/python3.6/site-packages/ipykernel_launcher.py:8: MatplotlibDeprecationWarning: \n",
      "The 'normed' kwarg was deprecated in Matplotlib 2.1 and will be removed in 3.1. Use 'density' instead.\n",
      "  \n",
      "/Users/manal/miniconda3/lib/python3.6/site-packages/ipykernel_launcher.py:11: MatplotlibDeprecationWarning: \n",
      "The 'normed' kwarg was deprecated in Matplotlib 2.1 and will be removed in 3.1. Use 'density' instead.\n",
      "  # This is added back by InteractiveShellApp.init_path()\n"
     ]
    },
    {
     "data": {
      "text/plain": [
       "Text(175, 0.027, 'TP')"
      ]
     },
     "execution_count": 4,
     "metadata": {},
     "output_type": "execute_result"
    },
    {
     "data": {
      "image/png": "[encoded data removed]",
      "text/plain": [
       "<Figure size 432x288 with 1 Axes>"
      ]
     },
     "metadata": {
      "needs_background": "light"
     },
     "output_type": "display_data"
    }
   ],
   "source": [
    "path = \"weight.xls\"\n",
    "data = pd.ExcelFile(path).parse('Sheet1')\n",
    "men = data[data[\"Gender\"]==1]\n",
    "women = data[data[\"Gender\"]==0]\n",
    "\n",
    "bsize = 75\n",
    "n, bins, patches = plt.hist(men[\"Height\"], bins=range(140,max(men[\"Height\"]),1), normed=True, \\\n",
    "                            color=\"blue\",  alpha=0.4, linewidth=0)\n",
    "\n",
    "plt.hist(women[\"Height\"], bins=range(140,max(men[\"Height\"]),1), normed=True, \\\n",
    "         color=\"red\", alpha=0.4, linewidth=0)\n",
    "\n",
    "plt.ylim(0,0.065)\n",
    "plt.vlines(168, 0, 0.08)\n",
    "\n",
    "plt.text(158, 0.027, \"TN\", fontsize=16, fontweight=\"bold\")\n",
    "plt.text(162, 0.007, \"FN\", fontsize=16, fontweight=\"bold\")\n",
    "plt.text(169, 0.007, \"FP\", fontsize=16, fontweight=\"bold\")\n",
    "plt.text(175, 0.027, \"TP\", fontsize=16, fontweight=\"bold\")"
   ]
  },
  {
   "cell_type": "markdown",
   "metadata": {},
   "source": [
    "Figure 7.3 illustrates where these result classes fall in separating two distri- butions (men and women), where the decision variable is height as measured in centimeters. The classifier under evaluation labels everyone of height ≥ 168 centimeters as male. The purple regions represent the intersection of both male and female. These tails represent the incorrectly classified elements.\n",
    "\n",
    "Accuracy, Precision, Recall, and F-Score\n",
    "\n",
    "There are several different evaluation statistics which can be computed from the true/false positive/negative counts detailed above. The reason we need so many statistics is that we must defend our classifier against two baseline opponents, the sharp and the monkey.\n"
   ]
  },
  {
   "cell_type": "markdown",
   "metadata": {},
   "source": [
    "### For Figure 7.6, need data that's not normalized."
   ]
  },
  {
   "cell_type": "code",
   "execution_count": 5,
   "metadata": {},
   "outputs": [
    {
     "data": {
      "image/png": "[encoded data removed]",
      "text/plain": [
       "<Figure size 432x288 with 1 Axes>"
      ]
     },
     "metadata": {
      "needs_background": "light"
     },
     "output_type": "display_data"
    }
   ],
   "source": [
    "nM, binM, patchesM = plt.hist(men[\"Height\"], bins=range(140,max(men[\"Height\"]),1), \\\n",
    "                            color=\"blue\",  alpha=0.4, linewidth=0)\n",
    "\n",
    "nW, binW, patchesW = plt.hist(women[\"Height\"], bins=range(140,max(men[\"Height\"]),1), \\\n",
    "         color=\"red\", alpha=0.4, linewidth=0)"
   ]
  },
  {
   "cell_type": "markdown",
   "metadata": {},
   "source": [
    "### Figure 7.6 Right"
   ]
  },
  {
   "cell_type": "code",
   "execution_count": 6,
   "metadata": {},
   "outputs": [
    {
     "data": {
      "text/plain": [
       "Text(0.5, 1.0, 'ROC Curve for Gender by Height')"
      ]
     },
     "execution_count": 6,
     "metadata": {},
     "output_type": "execute_result"
    },
    {
     "data": {
      "image/png": "[encoded data removed]",
      "text/plain": [
       "<Figure size 360x360 with 1 Axes>"
      ]
     },
     "metadata": {
      "needs_background": "light"
     },
     "output_type": "display_data"
    }
   ],
   "source": [
    "tpr = []\n",
    "fpr = []\n",
    "#total num people\n",
    "totalW = len(women[\"Height\"])\n",
    "totalM = len(men[\"Height\"])\n",
    "\n",
    "#total num people checked.\n",
    "sumW = 0\n",
    "sumM = 0\n",
    "total = len(data[\"Height\"])\n",
    "\n",
    "for i in range(len(binM)-1):\n",
    "    tprate = (totalM-sumM)/float(totalM)\n",
    "    fprate = (totalW-sumW)/float(totalW)\n",
    "    tpr.append(tprate)\n",
    "    fpr.append(fprate)\n",
    "    sumM += nM[i]\n",
    "    sumW += nW[i]\n",
    "    \n",
    "plt.figure(figsize=(5,5))\n",
    "plt.plot(fpr, tpr, 'bo', fpr, tpr, 'b-')\n",
    "plt.plot(np.linspace(0,1,100), np.linspace(0,1,100), 'r-')\n",
    "\n",
    "plt.xlim(-0.05, 1)\n",
    "plt.ylim(0,1.05)\n",
    "plt.xlabel(\"False Positive Rate\")\n",
    "plt.ylabel(\"True Positive Rate\")\n",
    "plt.title(\"ROC Curve for Gender by Height\")"
   ]
  },
  {
   "cell_type": "markdown",
   "metadata": {},
   "source": [
    "Figure 7.6: The ROC curve helps us select the best threshold to use in a classifier, by displaying the trade-off between true positives and false positive at every possible setting. The monkey ROCs the main diagonal here.\n",
    "\n",
    "Many classifiers come with natural knobs that you can tweak to alter the trade- off between precision and recall. For example, consider systems which compute a numerical score reflecting “in classness,” perhaps by assessing how much the given test sample looks like cancer. Certain samples will score more positively than others. But where do we draw the line between positive and negative?\n",
    "\n",
    "If our “in classness” score is accurate, then it should generally be higher for positive items than negative ones. The positive examples will define a different score distribution than the negative instances, as shown in Figure 7.6 (left). It would be great if these distributions were completely disjoint, because then there would be a score threshold t such that all instances with scores ≥ t are positive and all < t are negative. This would define a perfect classifier.\n",
    "\n",
    "But it is more likely that the two distributions will overlap, to at least some degree, turning the problem of identifying the best threshold into a judgment call based on our relative distaste towards false positives and false negatives.\n",
    "\n",
    "The Receiver Operating Characteristic (ROC) curve provides a visual repre- sentation of our complete space of options in putting together a classifier."
   ]
  },
  {
   "cell_type": "markdown",
   "metadata": {},
   "source": [
    "# Model selection: choosing estimators and their parameters\n",
    "\n",
    "Every estimator exposes a score method that can judge the quality of the fit (or the prediction) on new data. Bigger is better.\n",
    "\n",
    "Lets Try Support Vector Machines (SVM) as an efficieent Linear Classifier. More on SVM:\n",
    "https://scikit-learn.org/stable/tutorial/statistical_inference/supervised_learning.html#support-vector-machines-svms\n"
   ]
  },
  {
   "cell_type": "code",
   "execution_count": 37,
   "metadata": {},
   "outputs": [
    {
     "data": {
      "text/plain": [
       "0.98"
      ]
     },
     "execution_count": 37,
     "metadata": {},
     "output_type": "execute_result"
    }
   ],
   "source": [
    "from sklearn import datasets, svm\n",
    "digits = datasets.load_digits()\n",
    "X_digits = digits.data\n",
    "y_digits = digits.target\n",
    "svc = svm.SVC(C=1, kernel='linear')\n",
    "svc.fit(X_digits[:-100], y_digits[:-100]).score(X_digits[-100:], y_digits[-100:])"
   ]
  },
  {
   "cell_type": "markdown",
   "metadata": {},
   "source": [
    "To get a better measure of prediction accuracy (which we can use as a proxy for goodness of fit of the model), we can successively split the data in folds that we use for training and testing:"
   ]
  },
  {
   "cell_type": "code",
   "execution_count": 11,
   "metadata": {},
   "outputs": [
    {
     "name": "stdout",
     "output_type": "stream",
     "text": [
      "[0.9348914858096828, 0.9565943238731218, 0.9398998330550918]\n"
     ]
    }
   ],
   "source": [
    "import numpy as np\n",
    "X_folds = np.array_split(X_digits, 3)\n",
    "y_folds = np.array_split(y_digits, 3)\n",
    "scores = list()\n",
    "for k in range(3):\n",
    "    # We use 'list' to copy, in order to 'pop' later on\n",
    "    X_train = list(X_folds)\n",
    "    X_test = X_train.pop(k)\n",
    "    X_train = np.concatenate(X_train)\n",
    "    y_train = list(y_folds)\n",
    "    y_test = y_train.pop(k)\n",
    "    y_train = np.concatenate(y_train)\n",
    "    scores.append(svc.fit(X_train, y_train).score(X_test, y_test))\n",
    "print(scores)  "
   ]
  },
  {
   "cell_type": "markdown",
   "metadata": {},
   "source": [
    "This is called a KFold cross-validation.\n",
    "\n",
    "# Cross-validation generators\n",
    "\n",
    "Scikit-learn has a collection of classes which can be used to generate lists of train/test indices for popular cross-validation strategies.\n",
    "They expose a split method which accepts the input dataset to be split and yields the train/test set indices for each iteration of the chosen cross-validation strategy.\n",
    "This example shows an example usage of the split method."
   ]
  },
  {
   "cell_type": "code",
   "execution_count": 12,
   "metadata": {},
   "outputs": [
    {
     "name": "stdout",
     "output_type": "stream",
     "text": [
      "Train: [2 3 4 5 6 7 8 9] | test: [0 1]\n",
      "Train: [0 1 4 5 6 7 8 9] | test: [2 3]\n",
      "Train: [0 1 2 3 6 7 8 9] | test: [4 5]\n",
      "Train: [0 1 2 3 4 5 8 9] | test: [6 7]\n",
      "Train: [0 1 2 3 4 5 6 7] | test: [8 9]\n"
     ]
    }
   ],
   "source": [
    "from sklearn.model_selection import KFold, cross_val_score\n",
    "X = [\"a\", \"a\", \"a\", \"b\", \"b\", \"c\", \"c\", \"c\", \"c\", \"c\"]\n",
    "k_fold = KFold(n_splits=5)\n",
    "for train_indices, test_indices in k_fold.split(X):\n",
    "    print('Train: %s | test: %s' % (train_indices, test_indices))"
   ]
  },
  {
   "cell_type": "markdown",
   "metadata": {},
   "source": [
    "The cross-validation can then be performed easily:"
   ]
  },
  {
   "cell_type": "code",
   "execution_count": 13,
   "metadata": {},
   "outputs": [
    {
     "data": {
      "text/plain": [
       "[0.9638888888888889,\n",
       " 0.9222222222222223,\n",
       " 0.9637883008356546,\n",
       " 0.9637883008356546,\n",
       " 0.9303621169916435]"
      ]
     },
     "execution_count": 13,
     "metadata": {},
     "output_type": "execute_result"
    }
   ],
   "source": [
    "[svc.fit(X_digits[train], y_digits[train]).score(X_digits[test], y_digits[test])\n",
    "    for train, test in k_fold.split(X_digits)]  "
   ]
  },
  {
   "cell_type": "markdown",
   "metadata": {},
   "source": [
    "The cross-validation score can be directly calculated using the cross_val_score helper. Given an estimator, the cross-validation object and the input dataset, the cross_val_score splits the data repeatedly into a training and a testing set, trains the estimator using the training set and computes the scores based on the testing set for each iteration of cross-validation.\n",
    "\n",
    "By default the estimator’s score method is used to compute the individual scores.\n",
    "Refer the metrics module to learn more on the available scoring methods:\n",
    "https://scikit-learn.org/stable/modules/metrics.html#metrics\n"
   ]
  },
  {
   "cell_type": "code",
   "execution_count": 15,
   "metadata": {},
   "outputs": [
    {
     "data": {
      "text/plain": [
       "array([0.96388889, 0.92222222, 0.9637883 , 0.9637883 , 0.93036212])"
      ]
     },
     "execution_count": 15,
     "metadata": {},
     "output_type": "execute_result"
    }
   ],
   "source": [
    "cross_val_score(svc, X_digits, y_digits, cv=k_fold, n_jobs=-1)"
   ]
  },
  {
   "cell_type": "markdown",
   "metadata": {},
   "source": [
    "n_jobs=-1 means that the computation will be dispatched on all the CPUs of the computer.\n",
    "Alternatively, the scoring argument can be provided to specify an alternative scoring method."
   ]
  },
  {
   "cell_type": "code",
   "execution_count": 16,
   "metadata": {},
   "outputs": [
    {
     "data": {
      "text/plain": [
       "array([0.96578289, 0.92708922, 0.96681476, 0.96362897, 0.93192644])"
      ]
     },
     "execution_count": 16,
     "metadata": {},
     "output_type": "execute_result"
    }
   ],
   "source": [
    "cross_val_score(svc, X_digits, y_digits, cv=k_fold, scoring='precision_macro')"
   ]
  },
  {
   "cell_type": "markdown",
   "metadata": {},
   "source": [
    "# Cross-validation generators\n",
    "\n",
    "**KFold (n_splits, shuffle, random_state):** Splits it into K folds, trains on K-1 and then tests on the left-out.\n",
    "\n",
    "**StratifiedKFold (n_splits, shuffle, random_state):** Same as K-Fold but preserves the class distribution within each fold.\n",
    "\n",
    "**GroupKFold (n_splits):** Ensures that the same group is not in both testing and training sets.\n",
    "\n",
    "**ShuffleSplit (n_splits, test_size, train_size, random_state):** Generates train/test indices based on random permutation.\n",
    "\n",
    "**StratifiedShuffleSplit:** Same as shuffle split but preserves the class distribution within each iteration.\n",
    "\n",
    "**GroupShuffleSplit:** Ensures that the same group is not in both testing and training sets.\n",
    "\n",
    "**LeaveOneGroupOut ():** Takes a group array to group observations.\n",
    "\n",
    "**LeavePGroupsOut (n_groups):** Leave P groups out.\n",
    "\n",
    "**LeaveOneOut ():** Leave one observation out.\n",
    "\n",
    "**LeavePOut (p):** Leave P observations out.\t\n",
    "\n",
    "**PredefinedSplit:** Generates train/test indices based on predefined splits.\n"
   ]
  },
  {
   "cell_type": "markdown",
   "metadata": {},
   "source": [
    "On the digits dataset, plot the cross-validation score of a SVC estimator with an linear kernel as a function of parameter C (use a logarithmic grid of points, from 1 to 10)."
   ]
  },
  {
   "cell_type": "code",
   "execution_count": 19,
   "metadata": {},
   "outputs": [
    {
     "data": {
      "image/png": "[encoded data removed]",
      "text/plain": [
       "<Figure size 432x288 with 1 Axes>"
      ]
     },
     "metadata": {
      "needs_background": "light"
     },
     "output_type": "display_data"
    }
   ],
   "source": [
    "import numpy as np\n",
    "from sklearn.model_selection import cross_val_score\n",
    "from sklearn import datasets, svm\n",
    "\n",
    "digits = datasets.load_digits()\n",
    "X = digits.data\n",
    "y = digits.target\n",
    "\n",
    "svc = svm.SVC(kernel='linear')\n",
    "C_s = np.logspace(-10, 0, 10)\n",
    "\n",
    "scores = list()\n",
    "scores_std = list()\n",
    "for C in C_s:\n",
    "    svc.C = C\n",
    "    this_scores = cross_val_score(svc, X, y, cv=5, n_jobs=1)\n",
    "    scores.append(np.mean(this_scores))\n",
    "    scores_std.append(np.std(this_scores))\n",
    "\n",
    "# Do the plotting\n",
    "import matplotlib.pyplot as plt\n",
    "plt.figure()\n",
    "plt.semilogx(C_s, scores)\n",
    "plt.semilogx(C_s, np.array(scores) + np.array(scores_std), 'b--')\n",
    "plt.semilogx(C_s, np.array(scores) - np.array(scores_std), 'b--')\n",
    "locs, labels = plt.yticks()\n",
    "plt.yticks(locs, list(map(lambda x: \"%g\" % x, locs)))\n",
    "plt.ylabel('CV score')\n",
    "plt.xlabel('Parameter C')\n",
    "plt.ylim(0, 1.1)\n",
    "plt.show()"
   ]
  },
  {
   "cell_type": "markdown",
   "metadata": {},
   "source": [
    "# Grid-search and cross-validated estimators\n",
    "\n",
    "scikit-learn provides an object that, given data, computes the score during the fit of an estimator on a parameter grid and chooses the parameters to maximize the cross-validation score. This object takes an estimator during the construction and exposes an estimator API:"
   ]
  },
  {
   "cell_type": "code",
   "execution_count": 25,
   "metadata": {},
   "outputs": [
    {
     "name": "stderr",
     "output_type": "stream",
     "text": [
      "/Users/manal/miniconda3/lib/python3.6/site-packages/sklearn/model_selection/_split.py:1978: FutureWarning: The default value of cv will change from 3 to 5 in version 0.22. Specify it explicitly to silence this warning.\n",
      "  warnings.warn(CV_WARNING, FutureWarning)\n"
     ]
    },
    {
     "data": {
      "text/plain": [
       "GridSearchCV(cv='warn', error_score='raise-deprecating',\n",
       "             estimator=SVC(C=1.0, cache_size=200, class_weight=None, coef0=0.0,\n",
       "                           decision_function_shape='ovr', degree=3,\n",
       "                           gamma='auto_deprecated', kernel='linear',\n",
       "                           max_iter=-1, probability=False, random_state=None,\n",
       "                           shrinking=True, tol=0.001, verbose=False),\n",
       "             iid='warn', n_jobs=-1,\n",
       "             param_grid={'C': array([1.00000000e-06, 3.59381366e-06, 1.29154967e-05, 4.64158883e-05,\n",
       "       1.66810054e-04, 5.99484250e-04, 2.15443469e-03, 7.74263683e-03,\n",
       "       2.78255940e-02, 1.00000000e-01])},\n",
       "             pre_dispatch='2*n_jobs', refit=True, return_train_score=False,\n",
       "             scoring=None, verbose=0)"
      ]
     },
     "execution_count": 25,
     "metadata": {},
     "output_type": "execute_result"
    }
   ],
   "source": [
    "from sklearn.model_selection import GridSearchCV, cross_val_score\n",
    "\n",
    "Cs = np.logspace(-6, -1, 10)\n",
    "clf = GridSearchCV(estimator=svc, param_grid=dict(C=Cs),n_jobs=-1)\n",
    "clf.fit(X_digits[:1000], y_digits[:1000])        \n"
   ]
  },
  {
   "cell_type": "code",
   "execution_count": 26,
   "metadata": {},
   "outputs": [
    {
     "data": {
      "text/plain": [
       "0.925"
      ]
     },
     "execution_count": 26,
     "metadata": {},
     "output_type": "execute_result"
    }
   ],
   "source": [
    "clf.best_score_     "
   ]
  },
  {
   "cell_type": "code",
   "execution_count": 27,
   "metadata": {},
   "outputs": [
    {
     "data": {
      "text/plain": [
       "0.007742636826811277"
      ]
     },
     "execution_count": 27,
     "metadata": {},
     "output_type": "execute_result"
    }
   ],
   "source": [
    "clf.best_estimator_.C "
   ]
  },
  {
   "cell_type": "code",
   "execution_count": 28,
   "metadata": {},
   "outputs": [
    {
     "data": {
      "text/plain": [
       "0.9435382685069009"
      ]
     },
     "execution_count": 28,
     "metadata": {},
     "output_type": "execute_result"
    }
   ],
   "source": [
    "# Prediction performance on test set is not as good as on train set\n",
    "clf.score(X_digits[1000:], y_digits[1000:])      "
   ]
  },
  {
   "cell_type": "markdown",
   "metadata": {},
   "source": [
    "By default, the GridSearchCV uses a 3-fold cross-validation. However, if it detects that a classifier is passed, rather than a regressor, it uses a stratified 3-fold. The default will change to a 5-fold cross-validation in version 0.22."
   ]
  },
  {
   "cell_type": "markdown",
   "metadata": {},
   "source": [
    "# Nested cross-validation"
   ]
  },
  {
   "cell_type": "code",
   "execution_count": 29,
   "metadata": {},
   "outputs": [
    {
     "name": "stderr",
     "output_type": "stream",
     "text": [
      "/Users/manal/miniconda3/lib/python3.6/site-packages/sklearn/model_selection/_split.py:1978: FutureWarning: The default value of cv will change from 3 to 5 in version 0.22. Specify it explicitly to silence this warning.\n",
      "  warnings.warn(CV_WARNING, FutureWarning)\n",
      "/Users/manal/miniconda3/lib/python3.6/site-packages/sklearn/model_selection/_split.py:1978: FutureWarning: The default value of cv will change from 3 to 5 in version 0.22. Specify it explicitly to silence this warning.\n",
      "  warnings.warn(CV_WARNING, FutureWarning)\n",
      "/Users/manal/miniconda3/lib/python3.6/site-packages/sklearn/model_selection/_split.py:1978: FutureWarning: The default value of cv will change from 3 to 5 in version 0.22. Specify it explicitly to silence this warning.\n",
      "  warnings.warn(CV_WARNING, FutureWarning)\n",
      "/Users/manal/miniconda3/lib/python3.6/site-packages/sklearn/model_selection/_split.py:1978: FutureWarning: The default value of cv will change from 3 to 5 in version 0.22. Specify it explicitly to silence this warning.\n",
      "  warnings.warn(CV_WARNING, FutureWarning)\n",
      "/Users/manal/miniconda3/lib/python3.6/site-packages/sklearn/model_selection/_search.py:814: DeprecationWarning: The default of the `iid` parameter will change from True to False in version 0.22 and will be removed in 0.24. This will change numeric results when test-set sizes are unequal.\n",
      "  DeprecationWarning)\n"
     ]
    },
    {
     "data": {
      "text/plain": [
       "array([0.93853821, 0.96327212, 0.94463087])"
      ]
     },
     "execution_count": 29,
     "metadata": {},
     "output_type": "execute_result"
    }
   ],
   "source": [
    "cross_val_score(clf, X_digits, y_digits) "
   ]
  },
  {
   "cell_type": "markdown",
   "metadata": {},
   "source": [
    "Two cross-validation loops are performed in parallel: one by the GridSearchCV estimator to set gamma and the other one by cross_val_score to measure the prediction performance of the estimator. The resulting scores are unbiased estimates of the prediction score on new data.\n",
    "\n",
    "Warning You cannot nest objects with parallel computing (n_jobs different than 1).\n",
    "\n"
   ]
  },
  {
   "cell_type": "markdown",
   "metadata": {},
   "source": [
    "# Cross-validated estimators\n",
    "\n",
    "Cross-validation to set a parameter can be done more efficiently on an algorithm-by-algorithm basis. This is why, for certain estimators, scikit-learn exposes Cross-validation: evaluating estimator performance estimators that set their parameter automatically by cross-validation:\n",
    "\n",
    "https://scikit-learn.org/stable/modules/cross_validation.html#cross-validation\n",
    "\n"
   ]
  },
  {
   "cell_type": "code",
   "execution_count": 30,
   "metadata": {},
   "outputs": [
    {
     "data": {
      "text/plain": [
       "LassoCV(alphas=None, copy_X=True, cv=3, eps=0.001, fit_intercept=True,\n",
       "        max_iter=1000, n_alphas=100, n_jobs=None, normalize=False,\n",
       "        positive=False, precompute='auto', random_state=None,\n",
       "        selection='cyclic', tol=0.0001, verbose=False)"
      ]
     },
     "execution_count": 30,
     "metadata": {},
     "output_type": "execute_result"
    }
   ],
   "source": [
    "from sklearn import linear_model, datasets\n",
    "lasso = linear_model.LassoCV(cv=3)\n",
    "diabetes = datasets.load_diabetes()\n",
    "X_diabetes = diabetes.data\n",
    "y_diabetes = diabetes.target\n",
    "lasso.fit(X_diabetes, y_diabetes)  "
   ]
  },
  {
   "cell_type": "code",
   "execution_count": 31,
   "metadata": {},
   "outputs": [
    {
     "data": {
      "text/plain": [
       "0.012291895087486161"
      ]
     },
     "execution_count": 31,
     "metadata": {},
     "output_type": "execute_result"
    }
   ],
   "source": [
    "# The estimator chose automatically its lambda:\n",
    "lasso.alpha_ "
   ]
  },
  {
   "cell_type": "markdown",
   "metadata": {},
   "source": [
    "These estimators are called similarly to their counterparts, with ‘CV’ appended to their name.\n",
    "\n",
    "### Cross-validation on diabetes Dataset Exercise\n",
    "\n",
    "On the diabetes dataset, find the optimal regularization parameter alpha.\n",
    "Bonus: How much can you trust the selection of alpha?\n",
    "\n",
    "A tutorial exercise which uses cross-validation with linear models.\n",
    "\n"
   ]
  },
  {
   "cell_type": "code",
   "execution_count": 32,
   "metadata": {},
   "outputs": [
    {
     "name": "stdout",
     "output_type": "stream",
     "text": [
      "Answer to the bonus question: how much can you trust the selection of alpha?\n",
      "\n",
      "Alpha parameters maximising the generalization score on different\n",
      "subsets of the data:\n",
      "[fold 0] alpha: 0.05968, score: 0.54209\n",
      "[fold 1] alpha: 0.04520, score: 0.15523\n",
      "[fold 2] alpha: 0.07880, score: 0.45193\n",
      "\n",
      "Answer: Not very much since we obtained different alphas for different\n",
      "subsets of the data and moreover, the scores for these alphas differ\n",
      "quite substantially.\n"
     ]
    },
    {
     "data": {
      "image/png": "[encoded data removed]",
      "text/plain": [
       "<Figure size 576x432 with 1 Axes>"
      ]
     },
     "metadata": {
      "needs_background": "light"
     },
     "output_type": "display_data"
    }
   ],
   "source": [
    "import numpy as np\n",
    "import matplotlib.pyplot as plt\n",
    "\n",
    "from sklearn import datasets\n",
    "from sklearn.linear_model import LassoCV\n",
    "from sklearn.linear_model import Lasso\n",
    "from sklearn.model_selection import KFold\n",
    "from sklearn.model_selection import GridSearchCV\n",
    "\n",
    "diabetes = datasets.load_diabetes()\n",
    "X = diabetes.data[:150]\n",
    "y = diabetes.target[:150]\n",
    "\n",
    "lasso = Lasso(random_state=0, max_iter=10000)\n",
    "alphas = np.logspace(-4, -0.5, 30)\n",
    "\n",
    "tuned_parameters = [{'alpha': alphas}]\n",
    "n_folds = 5\n",
    "\n",
    "clf = GridSearchCV(lasso, tuned_parameters, cv=n_folds, refit=False)\n",
    "clf.fit(X, y)\n",
    "scores = clf.cv_results_['mean_test_score']\n",
    "scores_std = clf.cv_results_['std_test_score']\n",
    "plt.figure().set_size_inches(8, 6)\n",
    "plt.semilogx(alphas, scores)\n",
    "\n",
    "# plot error lines showing +/- std. errors of the scores\n",
    "std_error = scores_std / np.sqrt(n_folds)\n",
    "\n",
    "plt.semilogx(alphas, scores + std_error, 'b--')\n",
    "plt.semilogx(alphas, scores - std_error, 'b--')\n",
    "\n",
    "# alpha=0.2 controls the translucency of the fill color\n",
    "plt.fill_between(alphas, scores + std_error, scores - std_error, alpha=0.2)\n",
    "\n",
    "plt.ylabel('CV score +/- std error')\n",
    "plt.xlabel('alpha')\n",
    "plt.axhline(np.max(scores), linestyle='--', color='.5')\n",
    "plt.xlim([alphas[0], alphas[-1]])\n",
    "\n",
    "# #############################################################################\n",
    "# Bonus: how much can you trust the selection of alpha?\n",
    "\n",
    "# To answer this question we use the LassoCV object that sets its alpha\n",
    "# parameter automatically from the data by internal cross-validation (i.e. it\n",
    "# performs cross-validation on the training data it receives).\n",
    "# We use external cross-validation to see how much the automatically obtained\n",
    "# alphas differ across different cross-validation folds.\n",
    "lasso_cv = LassoCV(alphas=alphas, cv=5, random_state=0, max_iter=10000)\n",
    "k_fold = KFold(3)\n",
    "\n",
    "print(\"Answer to the bonus question:\",\n",
    "      \"how much can you trust the selection of alpha?\")\n",
    "print()\n",
    "print(\"Alpha parameters maximising the generalization score on different\")\n",
    "print(\"subsets of the data:\")\n",
    "for k, (train, test) in enumerate(k_fold.split(X, y)):\n",
    "    lasso_cv.fit(X[train], y[train])\n",
    "    print(\"[fold {0}] alpha: {1:.5f}, score: {2:.5f}\".\n",
    "          format(k, lasso_cv.alpha_, lasso_cv.score(X[test], y[test])))\n",
    "\n",
    "\n",
    "plt.show()"
   ]
  },
  {
   "cell_type": "markdown",
   "metadata": {},
   "source": [
    "Answer: Not very much since we obtained different alphas for different\n",
    "subsets of the data and moreover, the scores for these alphas differ\n",
    "quite substantially."
   ]
  },
  {
   "cell_type": "markdown",
   "metadata": {},
   "source": [
    "# Non Linear Model Estimation\n",
    "\n",
    "https://scikit-learn.org/stable/modules/generated/sklearn.ensemble.RandomForestRegressor.html#\n",
    "\n",
    "A random forest is a meta estimator that fits a number of classifying decision trees on various sub-samples of the dataset and uses averaging to improve the predictive accuracy and control over-fitting. The sub-sample size is always the same as the original input sample size but the samples are drawn with replacement if bootstrap=True (default)."
   ]
  },
  {
   "cell_type": "code",
   "execution_count": 33,
   "metadata": {},
   "outputs": [
    {
     "data": {
      "text/plain": [
       "RandomForestRegressor(bootstrap=True, criterion='mse', max_depth=2,\n",
       "                      max_features='auto', max_leaf_nodes=None,\n",
       "                      min_impurity_decrease=0.0, min_impurity_split=None,\n",
       "                      min_samples_leaf=1, min_samples_split=2,\n",
       "                      min_weight_fraction_leaf=0.0, n_estimators=100,\n",
       "                      n_jobs=None, oob_score=False, random_state=0, verbose=0,\n",
       "                      warm_start=False)"
      ]
     },
     "execution_count": 33,
     "metadata": {},
     "output_type": "execute_result"
    }
   ],
   "source": [
    "from sklearn.ensemble import RandomForestRegressor\n",
    "from sklearn.datasets import make_regression\n",
    "\n",
    "X, y = make_regression(n_features=4, n_informative=2,random_state=0, shuffle=False)\n",
    "regr = RandomForestRegressor(max_depth=2, random_state=0, n_estimators=100)\n",
    "regr.fit(X, y)  "
   ]
  },
  {
   "cell_type": "code",
   "execution_count": 34,
   "metadata": {},
   "outputs": [
    {
     "name": "stdout",
     "output_type": "stream",
     "text": [
      "[0.18146984 0.81473937 0.00145312 0.00233767]\n",
      "[-8.32987858]\n"
     ]
    }
   ],
   "source": [
    "print(regr.feature_importances_)\n",
    "print(regr.predict([[0, 0, 0, 0]]))"
   ]
  },
  {
   "cell_type": "markdown",
   "metadata": {},
   "source": [
    "# Example Prediction Latency\n",
    "This is an example showing the prediction latency of various scikit-learn estimators.\n",
    "The goal is to measure the latency one can expect when doing predictions either in bulk or atomic (i.e. one by one) mode.\n",
    "The plots represent the distribution of the prediction latency as a boxplot.\n"
   ]
  },
  {
   "cell_type": "code",
   "execution_count": 36,
   "metadata": {},
   "outputs": [
    {
     "name": "stdout",
     "output_type": "stream",
     "text": [
      "Benchmarking SGDRegressor(alpha=0.01, average=False, early_stopping=False, epsilon=0.1,\n",
      "             eta0=0.01, fit_intercept=True, l1_ratio=0.25,\n",
      "             learning_rate='invscaling', loss='squared_loss', max_iter=1000,\n",
      "             n_iter_no_change=5, penalty='elasticnet', power_t=0.25,\n",
      "             random_state=None, shuffle=True, tol=0.0001,\n",
      "             validation_fraction=0.1, verbose=0, warm_start=False)\n",
      "Benchmarking RandomForestRegressor(bootstrap=True, criterion='mse', max_depth=None,\n",
      "                      max_features='auto', max_leaf_nodes=None,\n",
      "                      min_impurity_decrease=0.0, min_impurity_split=None,\n",
      "                      min_samples_leaf=1, min_samples_split=2,\n",
      "                      min_weight_fraction_leaf=0.0, n_estimators=100,\n",
      "                      n_jobs=None, oob_score=False, random_state=None,\n",
      "                      verbose=0, warm_start=False)\n",
      "Benchmarking SVR(C=1.0, cache_size=200, coef0=0.0, degree=3, epsilon=0.1,\n",
      "    gamma='auto_deprecated', kernel='rbf', max_iter=-1, shrinking=True,\n",
      "    tol=0.001, verbose=False)\n"
     ]
    },
    {
     "data": {
      "image/png": "[encoded data removed]",
      "text/plain": [
       "<Figure size 720x432 with 1 Axes>"
      ]
     },
     "metadata": {
      "needs_background": "light"
     },
     "output_type": "display_data"
    },
    {
     "data": {
      "image/png": "[encoded data removed]",
      "text/plain": [
       "<Figure size 720x432 with 1 Axes>"
      ]
     },
     "metadata": {
      "needs_background": "light"
     },
     "output_type": "display_data"
    },
    {
     "name": "stdout",
     "output_type": "stream",
     "text": [
      "benchmarking with 100 features\n",
      "benchmarking with 250 features\n",
      "benchmarking with 500 features\n"
     ]
    },
    {
     "data": {
      "image/png": "[encoded data removed]",
      "text/plain": [
       "<Figure size 720x432 with 1 Axes>"
      ]
     },
     "metadata": {
      "needs_background": "light"
     },
     "output_type": "display_data"
    },
    {
     "data": {
      "image/png": "[encoded data removed]",
      "text/plain": [
       "<Figure size 720x432 with 1 Axes>"
      ]
     },
     "metadata": {
      "needs_background": "light"
     },
     "output_type": "display_data"
    },
    {
     "name": "stdout",
     "output_type": "stream",
     "text": [
      "example run in 10.42s\n"
     ]
    }
   ],
   "source": [
    "# Authors: Eustache Diemert <eustache@diemert.fr>\n",
    "# License: BSD 3 clause\n",
    "\n",
    "from collections import defaultdict\n",
    "\n",
    "import time\n",
    "import gc\n",
    "import numpy as np\n",
    "import matplotlib.pyplot as plt\n",
    "\n",
    "from sklearn.preprocessing import StandardScaler\n",
    "from sklearn.model_selection import train_test_split\n",
    "from sklearn.datasets.samples_generator import make_regression\n",
    "from sklearn.ensemble.forest import RandomForestRegressor\n",
    "from sklearn.linear_model.ridge import Ridge\n",
    "from sklearn.linear_model.stochastic_gradient import SGDRegressor\n",
    "from sklearn.svm.classes import SVR\n",
    "from sklearn.utils import shuffle\n",
    "\n",
    "\n",
    "def _not_in_sphinx():\n",
    "    # Hack to detect whether we are running by the sphinx builder\n",
    "    return '__file__' in globals()\n",
    "\n",
    "\n",
    "def atomic_benchmark_estimator(estimator, X_test, verbose=False):\n",
    "    \"\"\"Measure runtime prediction of each instance.\"\"\"\n",
    "    n_instances = X_test.shape[0]\n",
    "    runtimes = np.zeros(n_instances, dtype=np.float)\n",
    "    for i in range(n_instances):\n",
    "        instance = X_test[[i], :]\n",
    "        start = time.time()\n",
    "        estimator.predict(instance)\n",
    "        runtimes[i] = time.time() - start\n",
    "    if verbose:\n",
    "        print(\"atomic_benchmark runtimes:\", min(runtimes), np.percentile(\n",
    "            runtimes, 50), max(runtimes))\n",
    "    return runtimes\n",
    "\n",
    "\n",
    "def bulk_benchmark_estimator(estimator, X_test, n_bulk_repeats, verbose):\n",
    "    \"\"\"Measure runtime prediction of the whole input.\"\"\"\n",
    "    n_instances = X_test.shape[0]\n",
    "    runtimes = np.zeros(n_bulk_repeats, dtype=np.float)\n",
    "    for i in range(n_bulk_repeats):\n",
    "        start = time.time()\n",
    "        estimator.predict(X_test)\n",
    "        runtimes[i] = time.time() - start\n",
    "    runtimes = np.array(list(map(lambda x: x / float(n_instances), runtimes)))\n",
    "    if verbose:\n",
    "        print(\"bulk_benchmark runtimes:\", min(runtimes), np.percentile(\n",
    "            runtimes, 50), max(runtimes))\n",
    "    return runtimes\n",
    "\n",
    "\n",
    "def benchmark_estimator(estimator, X_test, n_bulk_repeats=30, verbose=False):\n",
    "    \"\"\"\n",
    "    Measure runtimes of prediction in both atomic and bulk mode.\n",
    "\n",
    "    Parameters\n",
    "    ----------\n",
    "    estimator : already trained estimator supporting `predict()`\n",
    "    X_test : test input\n",
    "    n_bulk_repeats : how many times to repeat when evaluating bulk mode\n",
    "\n",
    "    Returns\n",
    "    -------\n",
    "    atomic_runtimes, bulk_runtimes : a pair of `np.array` which contain the\n",
    "    runtimes in seconds.\n",
    "\n",
    "    \"\"\"\n",
    "    atomic_runtimes = atomic_benchmark_estimator(estimator, X_test, verbose)\n",
    "    bulk_runtimes = bulk_benchmark_estimator(estimator, X_test, n_bulk_repeats,\n",
    "                                             verbose)\n",
    "    return atomic_runtimes, bulk_runtimes\n",
    "\n",
    "\n",
    "def generate_dataset(n_train, n_test, n_features, noise=0.1, verbose=False):\n",
    "    \"\"\"Generate a regression dataset with the given parameters.\"\"\"\n",
    "    if verbose:\n",
    "        print(\"generating dataset...\")\n",
    "\n",
    "    X, y, coef = make_regression(n_samples=n_train + n_test,\n",
    "                                 n_features=n_features, noise=noise, coef=True)\n",
    "\n",
    "    random_seed = 13\n",
    "    X_train, X_test, y_train, y_test = train_test_split(\n",
    "        X, y, train_size=n_train, test_size=n_test, random_state=random_seed)\n",
    "    X_train, y_train = shuffle(X_train, y_train, random_state=random_seed)\n",
    "\n",
    "    X_scaler = StandardScaler()\n",
    "    X_train = X_scaler.fit_transform(X_train)\n",
    "    X_test = X_scaler.transform(X_test)\n",
    "\n",
    "    y_scaler = StandardScaler()\n",
    "    y_train = y_scaler.fit_transform(y_train[:, None])[:, 0]\n",
    "    y_test = y_scaler.transform(y_test[:, None])[:, 0]\n",
    "\n",
    "    gc.collect()\n",
    "    if verbose:\n",
    "        print(\"ok\")\n",
    "    return X_train, y_train, X_test, y_test\n",
    "\n",
    "\n",
    "def boxplot_runtimes(runtimes, pred_type, configuration):\n",
    "    \"\"\"\n",
    "    Plot a new `Figure` with boxplots of prediction runtimes.\n",
    "\n",
    "    Parameters\n",
    "    ----------\n",
    "    runtimes : list of `np.array` of latencies in micro-seconds\n",
    "    cls_names : list of estimator class names that generated the runtimes\n",
    "    pred_type : 'bulk' or 'atomic'\n",
    "\n",
    "    \"\"\"\n",
    "\n",
    "    fig, ax1 = plt.subplots(figsize=(10, 6))\n",
    "    bp = plt.boxplot(runtimes, )\n",
    "\n",
    "    cls_infos = ['%s\\n(%d %s)' % (estimator_conf['name'],\n",
    "                                  estimator_conf['complexity_computer'](\n",
    "                                      estimator_conf['instance']),\n",
    "                                  estimator_conf['complexity_label']) for\n",
    "                 estimator_conf in configuration['estimators']]\n",
    "    plt.setp(ax1, xticklabels=cls_infos)\n",
    "    plt.setp(bp['boxes'], color='black')\n",
    "    plt.setp(bp['whiskers'], color='black')\n",
    "    plt.setp(bp['fliers'], color='red', marker='+')\n",
    "\n",
    "    ax1.yaxis.grid(True, linestyle='-', which='major', color='lightgrey',\n",
    "                   alpha=0.5)\n",
    "\n",
    "    ax1.set_axisbelow(True)\n",
    "    ax1.set_title('Prediction Time per Instance - %s, %d feats.' % (\n",
    "        pred_type.capitalize(),\n",
    "        configuration['n_features']))\n",
    "    ax1.set_ylabel('Prediction Time (us)')\n",
    "\n",
    "    plt.show()\n",
    "\n",
    "\n",
    "def benchmark(configuration):\n",
    "    \"\"\"Run the whole benchmark.\"\"\"\n",
    "    X_train, y_train, X_test, y_test = generate_dataset(\n",
    "        configuration['n_train'], configuration['n_test'],\n",
    "        configuration['n_features'])\n",
    "\n",
    "    stats = {}\n",
    "    for estimator_conf in configuration['estimators']:\n",
    "        print(\"Benchmarking\", estimator_conf['instance'])\n",
    "        estimator_conf['instance'].fit(X_train, y_train)\n",
    "        gc.collect()\n",
    "        a, b = benchmark_estimator(estimator_conf['instance'], X_test)\n",
    "        stats[estimator_conf['name']] = {'atomic': a, 'bulk': b}\n",
    "\n",
    "    cls_names = [estimator_conf['name'] for estimator_conf in configuration[\n",
    "        'estimators']]\n",
    "    runtimes = [1e6 * stats[clf_name]['atomic'] for clf_name in cls_names]\n",
    "    boxplot_runtimes(runtimes, 'atomic', configuration)\n",
    "    runtimes = [1e6 * stats[clf_name]['bulk'] for clf_name in cls_names]\n",
    "    boxplot_runtimes(runtimes, 'bulk (%d)' % configuration['n_test'],\n",
    "                     configuration)\n",
    "\n",
    "\n",
    "def n_feature_influence(estimators, n_train, n_test, n_features, percentile):\n",
    "    \"\"\"\n",
    "    Estimate influence of the number of features on prediction time.\n",
    "\n",
    "    Parameters\n",
    "    ----------\n",
    "\n",
    "    estimators : dict of (name (str), estimator) to benchmark\n",
    "    n_train : nber of training instances (int)\n",
    "    n_test : nber of testing instances (int)\n",
    "    n_features : list of feature-space dimensionality to test (int)\n",
    "    percentile : percentile at which to measure the speed (int [0-100])\n",
    "\n",
    "    Returns:\n",
    "    --------\n",
    "\n",
    "    percentiles : dict(estimator_name,\n",
    "                       dict(n_features, percentile_perf_in_us))\n",
    "\n",
    "    \"\"\"\n",
    "    percentiles = defaultdict(defaultdict)\n",
    "    for n in n_features:\n",
    "        print(\"benchmarking with %d features\" % n)\n",
    "        X_train, y_train, X_test, y_test = generate_dataset(n_train, n_test, n)\n",
    "        for cls_name, estimator in estimators.items():\n",
    "            estimator.fit(X_train, y_train)\n",
    "            gc.collect()\n",
    "            runtimes = bulk_benchmark_estimator(estimator, X_test, 30, False)\n",
    "            percentiles[cls_name][n] = 1e6 * np.percentile(runtimes,\n",
    "                                                           percentile)\n",
    "    return percentiles\n",
    "\n",
    "\n",
    "def plot_n_features_influence(percentiles, percentile):\n",
    "    fig, ax1 = plt.subplots(figsize=(10, 6))\n",
    "    colors = ['r', 'g', 'b']\n",
    "    for i, cls_name in enumerate(percentiles.keys()):\n",
    "        x = np.array(sorted([n for n in percentiles[cls_name].keys()]))\n",
    "        y = np.array([percentiles[cls_name][n] for n in x])\n",
    "        plt.plot(x, y, color=colors[i], )\n",
    "    ax1.yaxis.grid(True, linestyle='-', which='major', color='lightgrey',\n",
    "                   alpha=0.5)\n",
    "    ax1.set_axisbelow(True)\n",
    "    ax1.set_title('Evolution of Prediction Time with #Features')\n",
    "    ax1.set_xlabel('#Features')\n",
    "    ax1.set_ylabel('Prediction Time at %d%%-ile (us)' % percentile)\n",
    "    plt.show()\n",
    "\n",
    "\n",
    "def benchmark_throughputs(configuration, duration_secs=0.1):\n",
    "    \"\"\"benchmark throughput for different estimators.\"\"\"\n",
    "    X_train, y_train, X_test, y_test = generate_dataset(\n",
    "        configuration['n_train'], configuration['n_test'],\n",
    "        configuration['n_features'])\n",
    "    throughputs = dict()\n",
    "    for estimator_config in configuration['estimators']:\n",
    "        estimator_config['instance'].fit(X_train, y_train)\n",
    "        start_time = time.time()\n",
    "        n_predictions = 0\n",
    "        while (time.time() - start_time) < duration_secs:\n",
    "            estimator_config['instance'].predict(X_test[[0]])\n",
    "            n_predictions += 1\n",
    "        throughputs[estimator_config['name']] = n_predictions / duration_secs\n",
    "    return throughputs\n",
    "\n",
    "\n",
    "def plot_benchmark_throughput(throughputs, configuration):\n",
    "    fig, ax = plt.subplots(figsize=(10, 6))\n",
    "    colors = ['r', 'g', 'b']\n",
    "    cls_infos = ['%s\\n(%d %s)' % (estimator_conf['name'],\n",
    "                                  estimator_conf['complexity_computer'](\n",
    "                                      estimator_conf['instance']),\n",
    "                                  estimator_conf['complexity_label']) for\n",
    "                 estimator_conf in configuration['estimators']]\n",
    "    cls_values = [throughputs[estimator_conf['name']] for estimator_conf in\n",
    "                  configuration['estimators']]\n",
    "    plt.bar(range(len(throughputs)), cls_values, width=0.5, color=colors)\n",
    "    ax.set_xticks(np.linspace(0.25, len(throughputs) - 0.75, len(throughputs)))\n",
    "    ax.set_xticklabels(cls_infos, fontsize=10)\n",
    "    ymax = max(cls_values) * 1.2\n",
    "    ax.set_ylim((0, ymax))\n",
    "    ax.set_ylabel('Throughput (predictions/sec)')\n",
    "    ax.set_title('Prediction Throughput for different estimators (%d '\n",
    "                 'features)' % configuration['n_features'])\n",
    "    plt.show()\n",
    "\n",
    "\n",
    "# #############################################################################\n",
    "# Main code\n",
    "\n",
    "start_time = time.time()\n",
    "\n",
    "# #############################################################################\n",
    "# Benchmark bulk/atomic prediction speed for various regressors\n",
    "configuration = {\n",
    "    'n_train': int(1e3),\n",
    "    'n_test': int(1e2),\n",
    "    'n_features': int(1e2),\n",
    "    'estimators': [\n",
    "        {'name': 'Linear Model',\n",
    "         'instance': SGDRegressor(penalty='elasticnet', alpha=0.01,\n",
    "                                  l1_ratio=0.25, fit_intercept=True,\n",
    "                                  tol=1e-4),\n",
    "         'complexity_label': 'non-zero coefficients',\n",
    "         'complexity_computer': lambda clf: np.count_nonzero(clf.coef_)},\n",
    "        {'name': 'RandomForest',\n",
    "         'instance': RandomForestRegressor(n_estimators=100),\n",
    "         'complexity_label': 'estimators',\n",
    "         'complexity_computer': lambda clf: clf.n_estimators},\n",
    "        {'name': 'SVR',\n",
    "         'instance': SVR(kernel='rbf'),\n",
    "         'complexity_label': 'support vectors',\n",
    "         'complexity_computer': lambda clf: len(clf.support_vectors_)},\n",
    "    ]\n",
    "}\n",
    "benchmark(configuration)\n",
    "\n",
    "# benchmark n_features influence on prediction speed\n",
    "percentile = 90\n",
    "percentiles = n_feature_influence({'ridge': Ridge()},\n",
    "                                  configuration['n_train'],\n",
    "                                  configuration['n_test'],\n",
    "                                  [100, 250, 500], percentile)\n",
    "plot_n_features_influence(percentiles, percentile)\n",
    "\n",
    "# benchmark throughput\n",
    "throughputs = benchmark_throughputs(configuration)\n",
    "plot_benchmark_throughput(throughputs, configuration)\n",
    "\n",
    "stop_time = time.time()\n",
    "print(\"example run in %.2fs\" % (stop_time - start_time))"
   ]
  },
  {
   "cell_type": "markdown",
   "metadata": {},
   "source": [
    "More Examples in:\n",
    "    \n",
    "    https://scikit-learn.org/stable/auto_examples/ensemble/plot_voting_regressor.html#sphx-glr-auto-examples-ensemble-plot-voting-regressor-py\n",
    "    \n",
    "    https://scikit-learn.org/stable/auto_examples/ensemble/plot_random_forest_regression_multioutput.html#sphx-glr-auto-examples-ensemble-plot-random-forest-regression-multioutput-py"
   ]
  }
 ],
 "metadata": {
  "kernelspec": {
   "display_name": "Python 2",
   "language": "python",
   "name": "python2"
  },
  "language_info": {
   "codemirror_mode": {
    "name": "ipython",
    "version": 2
   },
   "file_extension": ".py",
   "mimetype": "text/x-python",
   "name": "python",
   "nbconvert_exporter": "python",
   "pygments_lexer": "ipython2",
   "version": "2.7.16"
  }
 },
 "nbformat": 4,
 "nbformat_minor": 1
}
