{
 "cells": [
  {
   "cell_type": "markdown",
   "metadata": {},
   "source": [
    "# Connecting to SQLite Database"
   ]
  },
  {
   "cell_type": "code",
   "execution_count": 15,
   "metadata": {},
   "outputs": [
    {
     "name": "stdout",
     "output_type": "stream",
     "text": [
      "Opened database successfully\n"
     ]
    }
   ],
   "source": [
    "import sqlite3\n",
    "conn = sqlite3.connect('my_database.sqlite') # If the database does not exist, then it will be created and finally, a database object will be returned\n",
    "cursor = conn.cursor()\n",
    "print(\"Opened database successfully\")"
   ]
  },
  {
   "cell_type": "code",
   "execution_count": 16,
   "metadata": {},
   "outputs": [
    {
     "name": "stderr",
     "output_type": "stream",
     "text": [
      "ERROR:root:An unexpected error occurred while tokenizing input\n",
      "The following traceback may be corrupted or invalid\n",
      "The error message is: ('EOF in multi-line string', (1, 29))\n",
      "\n"
     ]
    },
    {
     "ename": "OperationalError",
     "evalue": "table SCHOOL already exists",
     "output_type": "error",
     "traceback": [
      "\u001b[0;31m---------------------------------------------------------------------------\u001b[0m",
      "\u001b[0;31mOperationalError\u001b[0m                          Traceback (most recent call last)",
      "\u001b[0;32m<ipython-input-16-0632bf17e8f0>\u001b[0m in \u001b[0;36m<module>\u001b[0;34m()\u001b[0m\n\u001b[1;32m      4\u001b[0m          \u001b[0mAGE\u001b[0m            \u001b[0mINT\u001b[0m     \u001b[0mNOT\u001b[0m \u001b[0mNULL\u001b[0m\u001b[0;34m,\u001b[0m\u001b[0;34m\u001b[0m\u001b[0m\n\u001b[1;32m      5\u001b[0m          \u001b[0mADDRESS\u001b[0m        \u001b[0mCHAR\u001b[0m\u001b[0;34m(\u001b[0m\u001b[0;36m50\u001b[0m\u001b[0;34m)\u001b[0m\u001b[0;34m,\u001b[0m\u001b[0;34m\u001b[0m\u001b[0m\n\u001b[0;32m----> 6\u001b[0;31m          MARKS          INT);''')\n\u001b[0m\u001b[1;32m      7\u001b[0m \u001b[0mcursor\u001b[0m\u001b[0;34m.\u001b[0m\u001b[0mclose\u001b[0m\u001b[0;34m(\u001b[0m\u001b[0;34m)\u001b[0m\u001b[0;34m\u001b[0m\u001b[0m\n",
      "\u001b[0;31mOperationalError\u001b[0m: table SCHOOL already exists"
     ]
    }
   ],
   "source": [
    "cursor.execute('''CREATE TABLE SCHOOL\n",
    "         (ID INT PRIMARY KEY     NOT NULL,\n",
    "         NAME           TEXT    NOT NULL,\n",
    "         AGE            INT     NOT NULL,\n",
    "         ADDRESS        CHAR(50),\n",
    "         MARKS          INT);''')\n",
    "cursor.close()"
   ]
  },
  {
   "cell_type": "code",
   "execution_count": 17,
   "metadata": {},
   "outputs": [
    {
     "ename": "IntegrityError",
     "evalue": "UNIQUE constraint failed: SCHOOL.ID",
     "output_type": "error",
     "traceback": [
      "\u001b[0;31m---------------------------------------------------------------------------\u001b[0m",
      "\u001b[0;31mIntegrityError\u001b[0m                            Traceback (most recent call last)",
      "\u001b[0;32m<ipython-input-17-fdaf31e4cdb1>\u001b[0m in \u001b[0;36m<module>\u001b[0;34m()\u001b[0m\n\u001b[1;32m      2\u001b[0m \u001b[0mcursor\u001b[0m \u001b[0;34m=\u001b[0m \u001b[0mconn\u001b[0m\u001b[0;34m.\u001b[0m\u001b[0mcursor\u001b[0m\u001b[0;34m(\u001b[0m\u001b[0;34m)\u001b[0m\u001b[0;34m\u001b[0m\u001b[0m\n\u001b[1;32m      3\u001b[0m \u001b[0;34m\u001b[0m\u001b[0m\n\u001b[0;32m----> 4\u001b[0;31m \u001b[0mcursor\u001b[0m\u001b[0;34m.\u001b[0m\u001b[0mexecute\u001b[0m\u001b[0;34m(\u001b[0m\u001b[0;34m\"INSERT INTO SCHOOL (ID,NAME,AGE,ADDRESS,MARKS)       VALUES (1, 'Rohan', 14, 'Delhi', 200)\"\u001b[0m\u001b[0;34m)\u001b[0m\u001b[0;34m;\u001b[0m\u001b[0;34m\u001b[0m\u001b[0m\n\u001b[0m\u001b[1;32m      5\u001b[0m \u001b[0mcursor\u001b[0m\u001b[0;34m.\u001b[0m\u001b[0mexecute\u001b[0m\u001b[0;34m(\u001b[0m\u001b[0;34m\"INSERT INTO SCHOOL (ID,NAME,AGE,ADDRESS,MARKS)       VALUES (2, 'Allen', 14, 'Bangalore', 150 )\"\u001b[0m\u001b[0;34m)\u001b[0m\u001b[0;34m;\u001b[0m\u001b[0;34m\u001b[0m\u001b[0m\n\u001b[1;32m      6\u001b[0m \u001b[0mcursor\u001b[0m\u001b[0;34m.\u001b[0m\u001b[0mexecute\u001b[0m\u001b[0;34m(\u001b[0m\u001b[0;34m\"INSERT INTO SCHOOL (ID,NAME,AGE,ADDRESS,MARKS)       VALUES (3, 'Martha', 15, 'Hyderabad', 200 )\"\u001b[0m\u001b[0;34m)\u001b[0m\u001b[0;34m;\u001b[0m\u001b[0;34m\u001b[0m\u001b[0m\n",
      "\u001b[0;31mIntegrityError\u001b[0m: UNIQUE constraint failed: SCHOOL.ID"
     ]
    }
   ],
   "source": [
    "conn = sqlite3.connect('my_database.sqlite') # If the database does not exist, then it will be created and finally, a database object will be returned\n",
    "cursor = conn.cursor()\n",
    "\n",
    "cursor.execute(\"INSERT INTO SCHOOL (ID,NAME,AGE,ADDRESS,MARKS) \\\n",
    "      VALUES (1, 'Rohan', 14, 'Delhi', 200)\");\n",
    "cursor.execute(\"INSERT INTO SCHOOL (ID,NAME,AGE,ADDRESS,MARKS) \\\n",
    "      VALUES (2, 'Allen', 14, 'Bangalore', 150 )\");\n",
    "cursor.execute(\"INSERT INTO SCHOOL (ID,NAME,AGE,ADDRESS,MARKS) \\\n",
    "      VALUES (3, 'Martha', 15, 'Hyderabad', 200 )\");\n",
    "cursor.execute(\"INSERT INTO SCHOOL (ID,NAME,AGE,ADDRESS,MARKS) \\\n",
    "      VALUES (4, 'Palak', 15, 'Kolkata', 650)\");\n",
    "conn.commit()\n",
    "cursor.close()"
   ]
  },
  {
   "cell_type": "code",
   "execution_count": 18,
   "metadata": {},
   "outputs": [
    {
     "name": "stdout",
     "output_type": "stream",
     "text": [
      "ID =  1\n",
      "NAME =  Rohan\n",
      "MARKS =  200 \n",
      "\n",
      "ID =  3\n",
      "NAME =  Martha\n",
      "MARKS =  250 \n",
      "\n",
      "ID =  4\n",
      "NAME =  Palak\n",
      "MARKS =  650 \n",
      "\n"
     ]
    }
   ],
   "source": [
    "conn = sqlite3.connect('my_database.sqlite')\n",
    "cursor = conn.cursor()\n",
    "for row in cursor.execute(\"SELECT id, name, marks from SCHOOL\"):\n",
    "    print(\"ID = \", row[0])\n",
    "    print(\"NAME = \", row[1])\n",
    "    print(\"MARKS = \", row[2], \"\\n\")\n",
    "conn.commit()\n",
    "conn.close()"
   ]
  },
  {
   "cell_type": "code",
   "execution_count": 19,
   "metadata": {},
   "outputs": [
    {
     "name": "stdout",
     "output_type": "stream",
     "text": [
      "ID =  1\n",
      "NAME =  Rohan\n",
      "MARKS =  Delhi \n",
      "\n",
      "ID =  3\n",
      "NAME =  Martha\n",
      "MARKS =  Hyderabad \n",
      "\n",
      "ID =  4\n",
      "NAME =  Palak\n",
      "MARKS =  Kolkata \n",
      "\n"
     ]
    }
   ],
   "source": [
    "conn = sqlite3.connect('my_database.sqlite')\n",
    "cursor = conn.cursor()\n",
    "conn.execute(\"UPDATE SCHOOL set MARKS = 250 where ID = 3\")\n",
    "conn.commit()\n",
    "for row in cursor.execute(\"SELECT id, name, address, marks from SCHOOL\"):\n",
    "    print(\"ID = \", row[0])\n",
    "    print(\"NAME = \", row[1])\n",
    "    print(\"MARKS = \", row[2], \"\\n\")\n",
    "conn.commit()\n",
    "conn.close()"
   ]
  },
  {
   "cell_type": "code",
   "execution_count": 20,
   "metadata": {},
   "outputs": [
    {
     "name": "stdout",
     "output_type": "stream",
     "text": [
      "ID =  1\n",
      "NAME =  Rohan\n",
      "ADDRESS =  Delhi\n",
      "MARKS =  200 \n",
      "\n",
      "ID =  3\n",
      "NAME =  Martha\n",
      "ADDRESS =  Hyderabad\n",
      "MARKS =  250 \n",
      "\n",
      "ID =  4\n",
      "NAME =  Palak\n",
      "ADDRESS =  Kolkata\n",
      "MARKS =  650 \n",
      "\n"
     ]
    }
   ],
   "source": [
    "conn = sqlite3.connect('my_database.sqlite')\n",
    "cursor = conn.cursor()\n",
    "conn.execute(\"DELETE from  SCHOOL where ID = 2\")\n",
    "conn.commit()\n",
    "for row in cursor.execute(\"SELECT id, name, address, marks from SCHOOL\"):\n",
    "    print(\"ID = \", row[0])\n",
    "    print(\"NAME = \", row[1])\n",
    "    print(\"ADDRESS = \", row[2])   \n",
    "    print(\"MARKS = \", row[3], \"\\n\")\n",
    "conn.commit()\n",
    "conn.close()"
   ]
  },
  {
   "cell_type": "markdown",
   "metadata": {
    "collapsed": true
   },
   "source": [
    "# Reading XM Documents"
   ]
  },
  {
   "cell_type": "raw",
   "metadata": {},
   "source": [
    "In the examples below, we will be using the following XML file, which we will save as \"items.xml\":\n",
    "\n",
    "<data>\n",
    "    <items>\n",
    "        <item name=\"item1\">item1abc</item>\n",
    "        <item name=\"item2\">item2abc</item>\n",
    "    </items>\n",
    "</data>\n"
   ]
  },
  {
   "cell_type": "code",
   "execution_count": 12,
   "metadata": {},
   "outputs": [
    {
     "name": "stdout",
     "output_type": "stream",
     "text": [
      "Item #2 attribute:\n",
      "item2\n",
      "\n",
      "All attributes:\n",
      "item1\n",
      "item2\n",
      "\n",
      "Item #2 data:\n",
      "item2abc\n",
      "item2abc\n",
      "\n",
      "All item data:\n",
      "item1abc\n",
      "item2abc\n"
     ]
    }
   ],
   "source": [
    "from xml.dom import minidom\n",
    "\n",
    "# parse an xml file by name\n",
    "mydoc = minidom.parse('items.xml')\n",
    "\n",
    "items = mydoc.getElementsByTagName('item')\n",
    "\n",
    "# one specific item attribute\n",
    "print('Item #2 attribute:')\n",
    "print(items[1].attributes['name'].value)\n",
    "\n",
    "# all item attributes\n",
    "print('\\nAll attributes:')\n",
    "for elem in items:\n",
    "    print(elem.attributes['name'].value)\n",
    "\n",
    "# one specific item's data\n",
    "print('\\nItem #2 data:')\n",
    "print(items[1].firstChild.data)\n",
    "print(items[1].childNodes[0].data)\n",
    "\n",
    "# all items data\n",
    "print('\\nAll item data:')\n",
    "for elem in items:\n",
    "    print(elem.firstChild.data)"
   ]
  },
  {
   "cell_type": "markdown",
   "metadata": {
    "collapsed": true
   },
   "source": [
    "###  If we wanted to use an already-opened file, can just pass our file object to parse like so:\n"
   ]
  },
  {
   "cell_type": "code",
   "execution_count": 4,
   "metadata": {},
   "outputs": [],
   "source": [
    "\n",
    "\n",
    "datasource = open('items.xml')\n",
    "\n",
    "# parse an open file\n",
    "mydoc = minidom.parse(datasource)"
   ]
  },
  {
   "cell_type": "markdown",
   "metadata": {},
   "source": [
    "### Using ElementTree\n",
    "\n",
    "ElementTree presents us with an very simple way to process XML files. As always, in order to use it we must first import the module. In our code we use the import command with the as keyword, which allows us to use a simplified name (ET in this case) for the module in the code.\n",
    "\n",
    "Following the import, we create a tree structure with the parse function, and we obtain its root element. Once we have access to the root node we can easily traverse around the tree, because a tree is a connected graph.\n",
    "\n",
    "Using ElementTree, and like the previous code example, we obtain the node attributes and text using the objects related to each node.\n",
    "\n",
    "The code is as follows:"
   ]
  },
  {
   "cell_type": "code",
   "execution_count": 5,
   "metadata": {},
   "outputs": [
    {
     "name": "stdout",
     "output_type": "stream",
     "text": [
      "Item #2 attribute:\n",
      "{'name': 'item2'}\n",
      "\n",
      "All attributes:\n",
      "{'name': 'item1'}\n",
      "{'name': 'item2'}\n",
      "\n",
      "Item #2 data:\n",
      "item2abc\n",
      "\n",
      "All item data:\n",
      "item1abc\n",
      "item2abc\n"
     ]
    }
   ],
   "source": [
    "import xml.etree.ElementTree as ET\n",
    "tree = ET.parse('items.xml')\n",
    "root = tree.getroot()\n",
    "\n",
    "# one specific item attribute\n",
    "print('Item #2 attribute:')\n",
    "print(root[0][1].attrib)\n",
    "\n",
    "# all item attributes\n",
    "print('\\nAll attributes:')\n",
    "for elem in root:\n",
    "    for subelem in elem:\n",
    "        print(subelem.attrib)\n",
    "\n",
    "# one specific item's data\n",
    "print('\\nItem #2 data:')\n",
    "print(root[0][1].text)\n",
    "\n",
    "# all items data\n",
    "print('\\nAll item data:')\n",
    "for elem in root:\n",
    "    for subelem in elem:\n",
    "        print(subelem.text)"
   ]
  },
  {
   "cell_type": "markdown",
   "metadata": {},
   "source": [
    "### Counting the Elements of an XML Document\n"
   ]
  },
  {
   "cell_type": "code",
   "execution_count": 6,
   "metadata": {},
   "outputs": [
    {
     "name": "stdout",
     "output_type": "stream",
     "text": [
      "2\n"
     ]
    }
   ],
   "source": [
    "from xml.dom import minidom\n",
    "\n",
    "# parse an xml file by name\n",
    "mydoc = minidom.parse('items.xml')\n",
    "\n",
    "items = mydoc.getElementsByTagName('item')\n",
    "\n",
    "# total amount of items\n",
    "print(len(items))"
   ]
  },
  {
   "cell_type": "markdown",
   "metadata": {},
   "source": [
    "### Writing XML Documents"
   ]
  },
  {
   "cell_type": "code",
   "execution_count": 8,
   "metadata": {},
   "outputs": [
    {
     "data": {
      "text/plain": [
       "96"
      ]
     },
     "execution_count": 8,
     "metadata": {},
     "output_type": "execute_result"
    }
   ],
   "source": [
    "import xml.etree.ElementTree as ET\n",
    "\n",
    "# create the file structure\n",
    "data = ET.Element('data')\n",
    "items = ET.SubElement(data, 'items')\n",
    "item1 = ET.SubElement(items, 'item')\n",
    "item2 = ET.SubElement(items, 'item')\n",
    "item1.set('name','item1')\n",
    "item2.set('name','item2')\n",
    "item1.text = 'item1abc'\n",
    "item2.text = 'item2abc'\n",
    "\n",
    "# create a new XML file with the results\n",
    "mydata = ET.tostring(data)\n",
    "myfile = open(\"items2.xml\", \"wb\")\n",
    "myfile.write(mydata)"
   ]
  },
  {
   "cell_type": "markdown",
   "metadata": {},
   "source": [
    "### Finding XML Elements"
   ]
  },
  {
   "cell_type": "code",
   "execution_count": 9,
   "metadata": {},
   "outputs": [
    {
     "name": "stdout",
     "output_type": "stream",
     "text": [
      "item1\n",
      "{'name': 'item1'}\n",
      "item1\n",
      "{'name': 'item2'}\n",
      "item2\n"
     ]
    }
   ],
   "source": [
    "import xml.etree.ElementTree as ET\n",
    "tree = ET.parse('items.xml')\n",
    "root = tree.getroot()\n",
    "\n",
    "# find the first 'item' object\n",
    "for elem in root:\n",
    "    print(elem.find('item').get('name'))\n",
    "\n",
    "# find all \"item\" objects and print their \"name\" attribute\n",
    "for elem in root:\n",
    "    for subelem in elem.findall('item'):\n",
    "    \n",
    "        # if we don't need to know the name of the attribute(s), get the dict\n",
    "        print(subelem.attrib)      \n",
    "    \n",
    "        # if we know the name of the attribute, access it directly\n",
    "        print(subelem.get('name'))"
   ]
  },
  {
   "cell_type": "markdown",
   "metadata": {},
   "source": [
    "### Modifying XML Elements\n"
   ]
  },
  {
   "cell_type": "code",
   "execution_count": 10,
   "metadata": {},
   "outputs": [],
   "source": [
    "import xml.etree.ElementTree as ET\n",
    "\n",
    "tree = ET.parse('items.xml')\n",
    "root = tree.getroot()\n",
    "\n",
    "# changing a field text\n",
    "for elem in root.iter('item'):\n",
    "    elem.text = 'new text'\n",
    "\n",
    "# modifying an attribute\n",
    "for elem in root.iter('item'):\n",
    "    elem.set('name', 'newitem')\n",
    "\n",
    "# adding an attribute\n",
    "for elem in root.iter('item'):\n",
    "    elem.set('name2', 'newitem2')\n",
    "\n",
    "tree.write('newitems.xml')"
   ]
  },
  {
   "cell_type": "markdown",
   "metadata": {},
   "source": [
    "### Creating XML Sub-Elements\n"
   ]
  },
  {
   "cell_type": "code",
   "execution_count": 13,
   "metadata": {},
   "outputs": [],
   "source": [
    "import xml.etree.ElementTree as ET\n",
    "\n",
    "tree = ET.parse('items.xml')\n",
    "root = tree.getroot()\n",
    "\n",
    "# adding an element to the root node\n",
    "attrib = {}\n",
    "element = root.makeelement('seconditems', attrib)\n",
    "root.append(element)\n",
    "\n",
    "# adding an element to the seconditem node\n",
    "attrib = {'name2': 'secondname2'}\n",
    "subelement = root[0][1].makeelement('seconditem', attrib)\n",
    "ET.SubElement(root[1], 'seconditem', attrib)\n",
    "root[1][0].text = 'seconditemabc'\n",
    "\n",
    "# create a new XML file with the new element\n",
    "tree.write('newitems2.xml')"
   ]
  },
  {
   "cell_type": "markdown",
   "metadata": {},
   "source": [
    "### Deleting XML Elements"
   ]
  },
  {
   "cell_type": "code",
   "execution_count": 14,
   "metadata": {},
   "outputs": [],
   "source": [
    "import xml.etree.ElementTree as ET\n",
    "\n",
    "tree = ET.parse('items.xml')\n",
    "root = tree.getroot()\n",
    "\n",
    "# removing an attribute\n",
    "root[0][0].attrib.pop('name', None)\n",
    "\n",
    "# create a new XML file with the results\n",
    "tree.write('newitems3.xml')"
   ]
  },
  {
   "cell_type": "markdown",
   "metadata": {},
   "source": [
    "### Deleting one sub-element"
   ]
  },
  {
   "cell_type": "code",
   "execution_count": 15,
   "metadata": {},
   "outputs": [],
   "source": [
    "import xml.etree.ElementTree as ET\n",
    "\n",
    "tree = ET.parse('items.xml')\n",
    "root = tree.getroot()\n",
    "\n",
    "# removing one sub-element\n",
    "root[0].remove(root[0][0])\n",
    "\n",
    "# create a new XML file with the results\n",
    "tree.write('newitems4.xml')"
   ]
  },
  {
   "cell_type": "markdown",
   "metadata": {},
   "source": [
    "### Deleting all sub-elements"
   ]
  },
  {
   "cell_type": "code",
   "execution_count": 16,
   "metadata": {},
   "outputs": [],
   "source": [
    "import xml.etree.ElementTree as ET\n",
    "\n",
    "tree = ET.parse('items.xml')\n",
    "root = tree.getroot()\n",
    "\n",
    "# removing all sub-elements of an element\n",
    "root[0].clear()\n",
    "\n",
    "# create a new XML file with the results\n",
    "tree.write('newitems5.xml')"
   ]
  },
  {
   "cell_type": "markdown",
   "metadata": {},
   "source": [
    "# JSON encoder and decoder"
   ]
  },
  {
   "cell_type": "markdown",
   "metadata": {},
   "source": [
    "### Encoding basic Python object hierarchies:"
   ]
  },
  {
   "cell_type": "code",
   "execution_count": 18,
   "metadata": {},
   "outputs": [
    {
     "name": "stdout",
     "output_type": "stream",
     "text": [
      "\"\\\"foo\\bar\"\n",
      "\"\\u1234\"\n",
      "\"\\\\\"\n",
      "{\"a\": 0, \"b\": 0, \"c\": 0}\n"
     ]
    },
    {
     "data": {
      "text/plain": [
       "'[\"streaming API\"]'"
      ]
     },
     "execution_count": 18,
     "metadata": {},
     "output_type": "execute_result"
    }
   ],
   "source": [
    "import json\n",
    "json.dumps(['foo', {'bar': ('baz', None, 1.0, 2)}])\n",
    "print(json.dumps(\"\\\"foo\\bar\"))\n",
    "print(json.dumps('\\u1234'))\n",
    "print(json.dumps('\\\\'))\n",
    "print(json.dumps({\"c\": 0, \"b\": 0, \"a\": 0}, sort_keys=True))\n",
    "from io import StringIO\n",
    "io = StringIO()\n",
    "json.dump(['streaming API'], io)\n",
    "io.getvalue()\n"
   ]
  },
  {
   "cell_type": "markdown",
   "metadata": {},
   "source": [
    "### Compact encoding:"
   ]
  },
  {
   "cell_type": "code",
   "execution_count": 19,
   "metadata": {},
   "outputs": [
    {
     "data": {
      "text/plain": [
       "'[1,2,3,{\"4\":5,\"6\":7}]'"
      ]
     },
     "execution_count": 19,
     "metadata": {},
     "output_type": "execute_result"
    }
   ],
   "source": [
    "import json\n",
    "json.dumps([1, 2, 3, {'4': 5, '6': 7}], separators=(',', ':'))"
   ]
  },
  {
   "cell_type": "markdown",
   "metadata": {},
   "source": [
    "### Pretty printing:"
   ]
  },
  {
   "cell_type": "code",
   "execution_count": 20,
   "metadata": {},
   "outputs": [
    {
     "name": "stdout",
     "output_type": "stream",
     "text": [
      "{\n",
      "    \"4\": 5,\n",
      "    \"6\": 7\n",
      "}\n"
     ]
    }
   ],
   "source": [
    "import json\n",
    "print(json.dumps({'4': 5, '6': 7}, sort_keys=True, indent=4))\n"
   ]
  },
  {
   "cell_type": "markdown",
   "metadata": {},
   "source": [
    "### Decoding JSON:"
   ]
  },
  {
   "cell_type": "code",
   "execution_count": 21,
   "metadata": {},
   "outputs": [
    {
     "data": {
      "text/plain": [
       "['streaming API']"
      ]
     },
     "execution_count": 21,
     "metadata": {},
     "output_type": "execute_result"
    }
   ],
   "source": [
    "import json\n",
    "json.loads('[\"foo\", {\"bar\":[\"baz\", null, 1.0, 2]}]')\n",
    "json.loads('\"\\\\\"foo\\\\bar\"')\n",
    "from io import StringIO\n",
    "io = StringIO('[\"streaming API\"]')\n",
    "json.load(io)\n"
   ]
  },
  {
   "cell_type": "markdown",
   "metadata": {},
   "source": [
    "### Specializing JSON object decoding:"
   ]
  },
  {
   "cell_type": "code",
   "execution_count": 22,
   "metadata": {},
   "outputs": [
    {
     "data": {
      "text/plain": [
       "Decimal('1.1')"
      ]
     },
     "execution_count": 22,
     "metadata": {},
     "output_type": "execute_result"
    }
   ],
   "source": [
    "import json\n",
    "def as_complex(dct):\n",
    "    if '__complex__' in dct:\n",
    "        return complex(dct['real'], dct['imag'])\n",
    "    return dct\n",
    "\n",
    "json.loads('{\"__complex__\": true, \"real\": 1, \"imag\": 2}', object_hook=as_complex)\n",
    "\n",
    "import decimal\n",
    "json.loads('1.1', parse_float=decimal.Decimal)"
   ]
  },
  {
   "cell_type": "markdown",
   "metadata": {},
   "source": [
    "### Extending JSONEncoder:"
   ]
  },
  {
   "cell_type": "code",
   "execution_count": 23,
   "metadata": {},
   "outputs": [
    {
     "data": {
      "text/plain": [
       "['[2.0', ', 1.0', ']']"
      ]
     },
     "execution_count": 23,
     "metadata": {},
     "output_type": "execute_result"
    }
   ],
   "source": [
    "import json\n",
    "class ComplexEncoder(json.JSONEncoder):\n",
    "    def default(self, obj):\n",
    "        if isinstance(obj, complex):\n",
    "            return [obj.real, obj.imag]\n",
    "            # Let the base class default method raise the TypeError\n",
    "        return json.JSONEncoder.default(self, obj)\n",
    "\n",
    "json.dumps(2 + 1j, cls=ComplexEncoder)\n",
    "ComplexEncoder().encode(2 + 1j)\n",
    "list(ComplexEncoder().iterencode(2 + 1j))"
   ]
  }
 ],
 "metadata": {
  "kernelspec": {
   "display_name": "Python 3",
   "language": "python",
   "name": "python3"
  },
  "language_info": {
   "codemirror_mode": {
    "name": "ipython",
    "version": 3
   },
   "file_extension": ".py",
   "mimetype": "text/x-python",
   "name": "python",
   "nbconvert_exporter": "python",
   "pygments_lexer": "ipython3",
   "version": "3.6.4"
  }
 },
 "nbformat": 4,
 "nbformat_minor": 2
}
